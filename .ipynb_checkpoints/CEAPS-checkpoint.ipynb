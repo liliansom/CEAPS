{
 "cells": [
  {
   "cell_type": "markdown",
   "id": "fb4d8207",
   "metadata": {},
   "source": [
    "# Cotas para Exercício da Atividade Parlamentar dos Senadores (CEAPS)"
   ]
  },
  {
   "cell_type": "markdown",
   "id": "01fa798d",
   "metadata": {},
   "source": [
    "Segundo o site da Câmara dos Deputados (https://www2.camara.leg.br/transparencia/acesso-a-informacao/copy_of_perguntas-frequentes/cota-para-o-exercicio-da-atividade-parlamentar), a Cota para o Exercício da Atividade Parlamentar – CEAP (antiga verba indenizatória) é uma cota única mensal destinada a custear os gastos dos deputados exclusivamente vinculados ao exercício da atividade parlamentar.\n",
    "\n",
    "O Ato da Mesa nº 43 de 2009, que detalha as regras para o uso da CEAP, determina que só podem ser indenizadas despesas com:\n",
    "* passagens aéreas;\n",
    "* telefonia; \n",
    "* serviços postais; \n",
    "* manutenção de escritórios de apoio à atividade parlamentar; \n",
    "* assinatura de publicações; \n",
    "* fornecimento de alimentação ao parlamentar; \n",
    "* hospedagem;\n",
    "* outras despesas com locomoção, contemplando locação ou fretamento de aeronaves, veículos automotores e embarcações, serviços de táxi, pedágio e estacionamento e passagens terrestres, marítimas ou fluviais; \n",
    "* combustíveis e lubrificantes; \n",
    "* serviços de segurança; \n",
    "* contratação de consultorias e trabalhos técnicos; \n",
    "* divulgação da atividade parlamentar, exceto nos 120 dias anteriores às eleições; \n",
    "* participação do parlamentar em cursos, palestras, seminários, simpósios, congressos ou eventos congêneres; \n",
    "* e a complementação do auxílio-moradia.\n",
    "\n",
    "O valor máximo mensal da cota depende da unidade da federação que o deputado representa. Essa variação ocorre por causa das passagens aéreas e está relacionada ao valor do trecho entre Brasília e o Estado que o deputado representa."
   ]
  },
  {
   "cell_type": "markdown",
   "id": "2eba1d4b",
   "metadata": {},
   "source": [
    "## Problemas de Pesquisa"
   ]
  },
  {
   "cell_type": "markdown",
   "id": "5aa2e86b",
   "metadata": {},
   "source": [
    "1) Quem são os TOP 5 maiores gastos de cada ano?\n",
    "\n",
    "        1.1) Podemos detalhar com o que foram realizados esses gastos?\n",
    "\n",
    "2) Com qual tipo de despesa foi gasto mais dinheiro?\n",
    "\n",
    "3) Qual será a melhor forma para analisar se um gasto pode ser categorizado como suspeito?\n",
    "\n",
    "        3.1) Podemos criar um filtro para gastos suspeitos?"
   ]
  },
  {
   "cell_type": "markdown",
   "id": "a6dadade",
   "metadata": {},
   "source": [
    "## Bibliotecas"
   ]
  },
  {
   "cell_type": "code",
   "execution_count": 1,
   "id": "e5b406db",
   "metadata": {},
   "outputs": [],
   "source": [
    "import pandas as pd\n",
    "import warnings\n",
    "from IPython.display import display, Markdown, HTML\n",
    "import locale\n",
    "from babel.numbers import format_currency\n",
    "import matplotlib.pyplot as plt\n",
    "import seaborn as sns\n",
    "\n",
    "%matplotlib inline\n",
    "warnings.filterwarnings('ignore')"
   ]
  },
  {
   "cell_type": "markdown",
   "id": "ebf0097b",
   "metadata": {},
   "source": [
    "## Funções\n",
    "Nesta sessão ficarão as funções criadas para este projeto."
   ]
  },
  {
   "cell_type": "code",
   "execution_count": 2,
   "id": "2d44fd0d",
   "metadata": {},
   "outputs": [],
   "source": [
    "# Função para concatenar dataframes\n",
    "def concat(dataframes_list):\n",
    "    df_concat = pd.concat(dataframes_list, ignore_index=True)\n",
    "    return df_concat\n",
    "\n",
    "# Função para selecionar o ano\n",
    "def select_year(df, year):\n",
    "    year_df = df[df['ANO'] == year]\n",
    "    return year_df\n",
    "\n",
    "# Função para criar DF contagem de solicitações por senador\n",
    "def count(df, ano):\n",
    "    contagem_ano = df.query(\"ANO == @ano\")\n",
    "    df_ano = contagem_ano.sort_values(\"CONTAGEM\", ascending=False)\n",
    "    return df_ano\n",
    "    \n",
    "# Função para criar DF Valor Total por senador\n",
    "def value_sum(df):\n",
    "    df_agrupado = df.groupby('SENADOR')['VALOR_REEMBOLSADO'].sum()\n",
    "    df_agrupado = df_agrupado.to_frame()\n",
    "    df_agrupado = df_agrupado.rename(columns={'SENADOR': 'SENADOR', 'VALOR_REEMBOLSADO': 'VALOR_REEMBOLSADO'})\n",
    "    df_agrupado = df_agrupado.sort_values(\"VALOR_REEMBOLSADO\", ascending=False)\n",
    "    return df_agrupado\n",
    "\n",
    "# Função para criar DF Valor Total por Tipo de Despesa\n",
    "def value_type(df):\n",
    "    df_agrupado = df.groupby('TIPO_DESPESA')['VALOR_REEMBOLSADO'].sum()\n",
    "    df_agrupado = df_agrupado.to_frame()\n",
    "    df_agrupado = df_agrupado.rename(columns={'TIPO_DESPESA': 'TIPO_DESPESA','VALOR_REEMBOLSADO': 'VALOR_TOTAL'})\n",
    "    df_agrupado = df_agrupado.sort_values(\"VALOR_TOTAL\", ascending=False)\n",
    "    return df_agrupado\n",
    "\n",
    "# Função para mostrar o valor total por ano\n",
    "def total_value(df):\n",
    "    locale.setlocale(locale.LC_ALL, 'pt_BR.UTF-8')\n",
    "    soma_total = df['VALOR_TOTAL'].sum()\n",
    "    valor_formatado = format_currency(soma_total, 'BRL', format='#,##0.00', locale='pt_BR')\n",
    "    print(\"Soma total dos valores do ano de 2020:\", valor_formatado)    \n",
    "\n",
    "# Função para realizar a porcentagem de nulos por coluna\n",
    "def nulls(df):\n",
    "    nulls_percent = df.isnull().mean() * 100\n",
    "    return nulls_percent\n",
    "\n",
    "# Função para tratar valores da coluna VALOR_REEMBOLSADO e substituir a vírgula por ponto\n",
    "def treat_value(df):\n",
    "    df.loc[:, 'VALOR_REEMBOLSADO'] = df.loc[:, 'VALOR_REEMBOLSADO'].str.replace(',', '.').astype(float)\n",
    "    \n",
    "# Função para centralizar o dataframe\n",
    "def center_df(df):\n",
    "    df = df.style.set_table_attributes('style=\"margin-left: auto; margin-right: auto;\"')\n",
    "    return HTML(df.render())\n",
    "    \n",
    "# Função para inserir título\n",
    "def title(title, size):\n",
    "    return Markdown(f'<h1 style=\"font-size:{size}px; text-align:center;\">{title}</h1>')\n",
    "\n",
    "# FUnção para alterar tipo coluna para data\n",
    "def todate(df):\n",
    "    df_concat['DATA'] = pd.to_datetime(df_concat['DATA'], format='%d/%m/%Y', errors='coerce')\n",
    "    return df['DATA']\n",
    "\n",
    "# Função remover colunas\n",
    "def drop(df, columns_list):\n",
    "    df = df.drop(columns=columns_list)\n",
    "    return df"
   ]
  },
  {
   "cell_type": "markdown",
   "id": "ebcefa39",
   "metadata": {},
   "source": [
    "## Importação de Dados"
   ]
  },
  {
   "cell_type": "markdown",
   "id": "53c3c1b4",
   "metadata": {},
   "source": [
    "Os dados que serão utilizados são referentes aos anos de 2018 a 2022, disponíveis no site:\n",
    "https://www12.senado.leg.br/transparencia/dados-abertos-transparencia/dados-abertos-ceaps"
   ]
  },
  {
   "cell_type": "code",
   "execution_count": 3,
   "id": "bb4cb210",
   "metadata": {},
   "outputs": [],
   "source": [
    "# Importando dados\n",
    "data_2018 = pd.read_csv('data/despesa_ceaps_2018.csv', encoding='latin-1', sep=';', skiprows=[0])\n",
    "data_2019 = pd.read_csv('data/despesa_ceaps_2019.csv', encoding='latin-1', sep=';', skiprows=[0])\n",
    "data_2020 = pd.read_csv('data/despesa_ceaps_2020.csv', encoding='latin-1', sep=';', skiprows=[0])\n",
    "data_2021 = pd.read_csv('data/despesa_ceaps_2021.csv', encoding='latin-1', sep=';', skiprows=[0])\n",
    "data_2022 = pd.read_csv('data/despesa_ceaps_2022.csv', encoding='latin-1', sep=';', skiprows=[0])"
   ]
  },
  {
   "cell_type": "markdown",
   "id": "12e35fc0",
   "metadata": {},
   "source": [
    "## Concatenação das Tabelas 2018 - 2022\n",
    "Para análise exploratória e comparação dos dados iremos agrupá-los em um único arquivo. \n",
    "Em alguns momentos ainda os dados separados por anos ainda serão utilizados."
   ]
  },
  {
   "cell_type": "code",
   "execution_count": 4,
   "id": "d104281a",
   "metadata": {},
   "outputs": [
    {
     "data": {
      "text/html": [
       "<div>\n",
       "<style scoped>\n",
       "    .dataframe tbody tr th:only-of-type {\n",
       "        vertical-align: middle;\n",
       "    }\n",
       "\n",
       "    .dataframe tbody tr th {\n",
       "        vertical-align: top;\n",
       "    }\n",
       "\n",
       "    .dataframe thead th {\n",
       "        text-align: right;\n",
       "    }\n",
       "</style>\n",
       "<table border=\"1\" class=\"dataframe\">\n",
       "  <thead>\n",
       "    <tr style=\"text-align: right;\">\n",
       "      <th></th>\n",
       "      <th>ANO</th>\n",
       "      <th>MES</th>\n",
       "      <th>SENADOR</th>\n",
       "      <th>TIPO_DESPESA</th>\n",
       "      <th>CNPJ_CPF</th>\n",
       "      <th>FORNECEDOR</th>\n",
       "      <th>DOCUMENTO</th>\n",
       "      <th>DATA</th>\n",
       "      <th>DETALHAMENTO</th>\n",
       "      <th>VALOR_REEMBOLSADO</th>\n",
       "      <th>COD_DOCUMENTO</th>\n",
       "    </tr>\n",
       "  </thead>\n",
       "  <tbody>\n",
       "    <tr>\n",
       "      <th>0</th>\n",
       "      <td>2018</td>\n",
       "      <td>1</td>\n",
       "      <td>ACIR GURGACZ</td>\n",
       "      <td>Aluguel de imóveis para escritório político, c...</td>\n",
       "      <td>004.948.028-63</td>\n",
       "      <td>GILBERTO PISELO DO NASCIMENTO</td>\n",
       "      <td>NaN</td>\n",
       "      <td>02/01/2018</td>\n",
       "      <td>Despesa com pagamento de aluguel de imóvel par...</td>\n",
       "      <td>6000</td>\n",
       "      <td>2088462</td>\n",
       "    </tr>\n",
       "    <tr>\n",
       "      <th>1</th>\n",
       "      <td>2018</td>\n",
       "      <td>1</td>\n",
       "      <td>ACIR GURGACZ</td>\n",
       "      <td>Passagens aéreas, aquáticas e terrestres nacio...</td>\n",
       "      <td>63.764.211/0001-10</td>\n",
       "      <td>TRANSCONTINENTAL AGÊNCIA DE VIAGENS LTDA</td>\n",
       "      <td>M2CJMM</td>\n",
       "      <td>02/01/2018</td>\n",
       "      <td>Companhia Aérea: AVIANCA, Localizador: M2CJMM....</td>\n",
       "      <td>274,99</td>\n",
       "      <td>2088476</td>\n",
       "    </tr>\n",
       "    <tr>\n",
       "      <th>2</th>\n",
       "      <td>2018</td>\n",
       "      <td>1</td>\n",
       "      <td>ACIR GURGACZ</td>\n",
       "      <td>Passagens aéreas, aquáticas e terrestres nacio...</td>\n",
       "      <td>63.764.211/0001-10</td>\n",
       "      <td>TRANSCONTINENTAL AGÊNCIA DE VIAGENS LTDA</td>\n",
       "      <td>SFEXYF</td>\n",
       "      <td>02/01/2018</td>\n",
       "      <td>Companhia Aérea: LATAM, Localizador: SFEXYF. P...</td>\n",
       "      <td>1094,29</td>\n",
       "      <td>2088528</td>\n",
       "    </tr>\n",
       "    <tr>\n",
       "      <th>3</th>\n",
       "      <td>2018</td>\n",
       "      <td>1</td>\n",
       "      <td>ACIR GURGACZ</td>\n",
       "      <td>Passagens aéreas, aquáticas e terrestres nacio...</td>\n",
       "      <td>63.764.211/0001-10</td>\n",
       "      <td>TRANSCONTINENTAL AGÊNCIA DE VIAGENS LTDA</td>\n",
       "      <td>V64HTR</td>\n",
       "      <td>24/01/2018</td>\n",
       "      <td>Companhia Aérea: AZUL, Localizador: V64HTR. Pa...</td>\n",
       "      <td>1553,99</td>\n",
       "      <td>2088475</td>\n",
       "    </tr>\n",
       "    <tr>\n",
       "      <th>4</th>\n",
       "      <td>2018</td>\n",
       "      <td>2</td>\n",
       "      <td>ACIR GURGACZ</td>\n",
       "      <td>Aluguel de imóveis para escritório político, c...</td>\n",
       "      <td>004.948.028-63</td>\n",
       "      <td>GILBERTO PISELO DO NASCIMENTO</td>\n",
       "      <td>002/18</td>\n",
       "      <td>01/02/2018</td>\n",
       "      <td>Despesa com pagamento de aluguel de imóvel par...</td>\n",
       "      <td>6000</td>\n",
       "      <td>2088477</td>\n",
       "    </tr>\n",
       "    <tr>\n",
       "      <th>...</th>\n",
       "      <td>...</td>\n",
       "      <td>...</td>\n",
       "      <td>...</td>\n",
       "      <td>...</td>\n",
       "      <td>...</td>\n",
       "      <td>...</td>\n",
       "      <td>...</td>\n",
       "      <td>...</td>\n",
       "      <td>...</td>\n",
       "      <td>...</td>\n",
       "      <td>...</td>\n",
       "    </tr>\n",
       "    <tr>\n",
       "      <th>93756</th>\n",
       "      <td>2022</td>\n",
       "      <td>12</td>\n",
       "      <td>ZEQUINHA MARINHO</td>\n",
       "      <td>Passagens aéreas, aquáticas e terrestres nacio...</td>\n",
       "      <td>22.052.777/0001-32</td>\n",
       "      <td>Exceller Tour</td>\n",
       "      <td>WIXHAI</td>\n",
       "      <td>06/12/2022</td>\n",
       "      <td>Companhia Aérea: LATAM, Localizador: WIXHAI. P...</td>\n",
       "      <td>2893,04</td>\n",
       "      <td>2191398</td>\n",
       "    </tr>\n",
       "    <tr>\n",
       "      <th>93757</th>\n",
       "      <td>2022</td>\n",
       "      <td>12</td>\n",
       "      <td>ZEQUINHA MARINHO</td>\n",
       "      <td>Passagens aéreas, aquáticas e terrestres nacio...</td>\n",
       "      <td>22.052.777/0001-32</td>\n",
       "      <td>Exceller Tour</td>\n",
       "      <td>WITOLM</td>\n",
       "      <td>09/12/2022</td>\n",
       "      <td>Companhia Aérea: GOL, Localizador: WITOLM. Pas...</td>\n",
       "      <td>1180,19</td>\n",
       "      <td>2192272</td>\n",
       "    </tr>\n",
       "    <tr>\n",
       "      <th>93758</th>\n",
       "      <td>2022</td>\n",
       "      <td>12</td>\n",
       "      <td>ZEQUINHA MARINHO</td>\n",
       "      <td>Passagens aéreas, aquáticas e terrestres nacio...</td>\n",
       "      <td>22.052.777/0001-32</td>\n",
       "      <td>Exceller Tour</td>\n",
       "      <td>THPKVQ</td>\n",
       "      <td>20/12/2022</td>\n",
       "      <td>Companhia Aérea: TAM, Localizador: THPKVQ. Pas...</td>\n",
       "      <td>2671,9</td>\n",
       "      <td>2192274</td>\n",
       "    </tr>\n",
       "    <tr>\n",
       "      <th>93759</th>\n",
       "      <td>2022</td>\n",
       "      <td>12</td>\n",
       "      <td>ZEQUINHA MARINHO</td>\n",
       "      <td>Passagens aéreas, aquáticas e terrestres nacio...</td>\n",
       "      <td>22.052.777/0001-32</td>\n",
       "      <td>Exceller Tour</td>\n",
       "      <td>QNN9HX</td>\n",
       "      <td>21/12/2022</td>\n",
       "      <td>Companhia Aérea: AZUL, Localizador: QNN9HX. Pa...</td>\n",
       "      <td>1334,31</td>\n",
       "      <td>2192244</td>\n",
       "    </tr>\n",
       "    <tr>\n",
       "      <th>93760</th>\n",
       "      <td>2022</td>\n",
       "      <td>12</td>\n",
       "      <td>ZEQUINHA MARINHO</td>\n",
       "      <td>Passagens aéreas, aquáticas e terrestres nacio...</td>\n",
       "      <td>22.052.777/0001-32</td>\n",
       "      <td>Exceller Tour</td>\n",
       "      <td>WMQWBX</td>\n",
       "      <td>30/12/2022</td>\n",
       "      <td>Companhia Aérea: TAM, Localizador: WMQWBX. Pas...</td>\n",
       "      <td>2250,72</td>\n",
       "      <td>2193622</td>\n",
       "    </tr>\n",
       "  </tbody>\n",
       "</table>\n",
       "<p>93761 rows × 11 columns</p>\n",
       "</div>"
      ],
      "text/plain": [
       "        ANO  MES           SENADOR  \\\n",
       "0      2018    1      ACIR GURGACZ   \n",
       "1      2018    1      ACIR GURGACZ   \n",
       "2      2018    1      ACIR GURGACZ   \n",
       "3      2018    1      ACIR GURGACZ   \n",
       "4      2018    2      ACIR GURGACZ   \n",
       "...     ...  ...               ...   \n",
       "93756  2022   12  ZEQUINHA MARINHO   \n",
       "93757  2022   12  ZEQUINHA MARINHO   \n",
       "93758  2022   12  ZEQUINHA MARINHO   \n",
       "93759  2022   12  ZEQUINHA MARINHO   \n",
       "93760  2022   12  ZEQUINHA MARINHO   \n",
       "\n",
       "                                            TIPO_DESPESA            CNPJ_CPF  \\\n",
       "0      Aluguel de imóveis para escritório político, c...      004.948.028-63   \n",
       "1      Passagens aéreas, aquáticas e terrestres nacio...  63.764.211/0001-10   \n",
       "2      Passagens aéreas, aquáticas e terrestres nacio...  63.764.211/0001-10   \n",
       "3      Passagens aéreas, aquáticas e terrestres nacio...  63.764.211/0001-10   \n",
       "4      Aluguel de imóveis para escritório político, c...      004.948.028-63   \n",
       "...                                                  ...                 ...   \n",
       "93756  Passagens aéreas, aquáticas e terrestres nacio...  22.052.777/0001-32   \n",
       "93757  Passagens aéreas, aquáticas e terrestres nacio...  22.052.777/0001-32   \n",
       "93758  Passagens aéreas, aquáticas e terrestres nacio...  22.052.777/0001-32   \n",
       "93759  Passagens aéreas, aquáticas e terrestres nacio...  22.052.777/0001-32   \n",
       "93760  Passagens aéreas, aquáticas e terrestres nacio...  22.052.777/0001-32   \n",
       "\n",
       "                                     FORNECEDOR DOCUMENTO        DATA  \\\n",
       "0                 GILBERTO PISELO DO NASCIMENTO       NaN  02/01/2018   \n",
       "1      TRANSCONTINENTAL AGÊNCIA DE VIAGENS LTDA    M2CJMM  02/01/2018   \n",
       "2      TRANSCONTINENTAL AGÊNCIA DE VIAGENS LTDA    SFEXYF  02/01/2018   \n",
       "3      TRANSCONTINENTAL AGÊNCIA DE VIAGENS LTDA    V64HTR  24/01/2018   \n",
       "4                 GILBERTO PISELO DO NASCIMENTO    002/18  01/02/2018   \n",
       "...                                         ...       ...         ...   \n",
       "93756                             Exceller Tour    WIXHAI  06/12/2022   \n",
       "93757                             Exceller Tour    WITOLM  09/12/2022   \n",
       "93758                             Exceller Tour    THPKVQ  20/12/2022   \n",
       "93759                             Exceller Tour    QNN9HX  21/12/2022   \n",
       "93760                             Exceller Tour    WMQWBX  30/12/2022   \n",
       "\n",
       "                                            DETALHAMENTO VALOR_REEMBOLSADO  \\\n",
       "0      Despesa com pagamento de aluguel de imóvel par...              6000   \n",
       "1      Companhia Aérea: AVIANCA, Localizador: M2CJMM....            274,99   \n",
       "2      Companhia Aérea: LATAM, Localizador: SFEXYF. P...           1094,29   \n",
       "3      Companhia Aérea: AZUL, Localizador: V64HTR. Pa...           1553,99   \n",
       "4      Despesa com pagamento de aluguel de imóvel par...              6000   \n",
       "...                                                  ...               ...   \n",
       "93756  Companhia Aérea: LATAM, Localizador: WIXHAI. P...           2893,04   \n",
       "93757  Companhia Aérea: GOL, Localizador: WITOLM. Pas...           1180,19   \n",
       "93758  Companhia Aérea: TAM, Localizador: THPKVQ. Pas...            2671,9   \n",
       "93759  Companhia Aérea: AZUL, Localizador: QNN9HX. Pa...           1334,31   \n",
       "93760  Companhia Aérea: TAM, Localizador: WMQWBX. Pas...           2250,72   \n",
       "\n",
       "       COD_DOCUMENTO  \n",
       "0            2088462  \n",
       "1            2088476  \n",
       "2            2088528  \n",
       "3            2088475  \n",
       "4            2088477  \n",
       "...              ...  \n",
       "93756        2191398  \n",
       "93757        2192272  \n",
       "93758        2192274  \n",
       "93759        2192244  \n",
       "93760        2193622  \n",
       "\n",
       "[93761 rows x 11 columns]"
      ]
     },
     "execution_count": 4,
     "metadata": {},
     "output_type": "execute_result"
    }
   ],
   "source": [
    "df_concat = concat([data_2018, data_2019, data_2020, data_2021, data_2022] )\n",
    "\"\"\" Comentários:\n",
    "    Corrigir os valores da coluna VALOR_REEMBOLSADO (trocar , por .)\n",
    "    Todos os dados que não for possível de realizar sua categorização serão excluídos desta análise (DOCUMENTO, COD_DOCUMENTO)\"\"\"\n",
    "df_concat"
   ]
  },
  {
   "cell_type": "markdown",
   "id": "198bbdc5",
   "metadata": {},
   "source": [
    "## Análise Exploratória"
   ]
  },
  {
   "cell_type": "code",
   "execution_count": 5,
   "id": "482bda0e",
   "metadata": {},
   "outputs": [
    {
     "data": {
      "text/markdown": [
       "<h1 style=\"font-size:20px; text-align:center;\">Tipos das Colunas</h1>"
      ],
      "text/plain": [
       "<IPython.core.display.Markdown object>"
      ]
     },
     "metadata": {},
     "output_type": "display_data"
    },
    {
     "data": {
      "text/html": [
       "<style type=\"text/css\">\n",
       "</style>\n",
       "<table id=\"T_64c1e\" style=\"margin-left: auto; margin-right: auto;\">\n",
       "  <thead>\n",
       "    <tr>\n",
       "      <th class=\"blank level0\" >&nbsp;</th>\n",
       "      <th id=\"T_64c1e_level0_col0\" class=\"col_heading level0 col0\" >Coluna</th>\n",
       "      <th id=\"T_64c1e_level0_col1\" class=\"col_heading level0 col1\" >Tipo</th>\n",
       "    </tr>\n",
       "  </thead>\n",
       "  <tbody>\n",
       "    <tr>\n",
       "      <th id=\"T_64c1e_level0_row0\" class=\"row_heading level0 row0\" >0</th>\n",
       "      <td id=\"T_64c1e_row0_col0\" class=\"data row0 col0\" >ANO</td>\n",
       "      <td id=\"T_64c1e_row0_col1\" class=\"data row0 col1\" >int64</td>\n",
       "    </tr>\n",
       "    <tr>\n",
       "      <th id=\"T_64c1e_level0_row1\" class=\"row_heading level0 row1\" >1</th>\n",
       "      <td id=\"T_64c1e_row1_col0\" class=\"data row1 col0\" >MES</td>\n",
       "      <td id=\"T_64c1e_row1_col1\" class=\"data row1 col1\" >int64</td>\n",
       "    </tr>\n",
       "    <tr>\n",
       "      <th id=\"T_64c1e_level0_row2\" class=\"row_heading level0 row2\" >2</th>\n",
       "      <td id=\"T_64c1e_row2_col0\" class=\"data row2 col0\" >SENADOR</td>\n",
       "      <td id=\"T_64c1e_row2_col1\" class=\"data row2 col1\" >object</td>\n",
       "    </tr>\n",
       "    <tr>\n",
       "      <th id=\"T_64c1e_level0_row3\" class=\"row_heading level0 row3\" >3</th>\n",
       "      <td id=\"T_64c1e_row3_col0\" class=\"data row3 col0\" >TIPO_DESPESA</td>\n",
       "      <td id=\"T_64c1e_row3_col1\" class=\"data row3 col1\" >object</td>\n",
       "    </tr>\n",
       "    <tr>\n",
       "      <th id=\"T_64c1e_level0_row4\" class=\"row_heading level0 row4\" >4</th>\n",
       "      <td id=\"T_64c1e_row4_col0\" class=\"data row4 col0\" >CNPJ_CPF</td>\n",
       "      <td id=\"T_64c1e_row4_col1\" class=\"data row4 col1\" >object</td>\n",
       "    </tr>\n",
       "    <tr>\n",
       "      <th id=\"T_64c1e_level0_row5\" class=\"row_heading level0 row5\" >5</th>\n",
       "      <td id=\"T_64c1e_row5_col0\" class=\"data row5 col0\" >FORNECEDOR</td>\n",
       "      <td id=\"T_64c1e_row5_col1\" class=\"data row5 col1\" >object</td>\n",
       "    </tr>\n",
       "    <tr>\n",
       "      <th id=\"T_64c1e_level0_row6\" class=\"row_heading level0 row6\" >6</th>\n",
       "      <td id=\"T_64c1e_row6_col0\" class=\"data row6 col0\" >DOCUMENTO</td>\n",
       "      <td id=\"T_64c1e_row6_col1\" class=\"data row6 col1\" >object</td>\n",
       "    </tr>\n",
       "    <tr>\n",
       "      <th id=\"T_64c1e_level0_row7\" class=\"row_heading level0 row7\" >7</th>\n",
       "      <td id=\"T_64c1e_row7_col0\" class=\"data row7 col0\" >DATA</td>\n",
       "      <td id=\"T_64c1e_row7_col1\" class=\"data row7 col1\" >object</td>\n",
       "    </tr>\n",
       "    <tr>\n",
       "      <th id=\"T_64c1e_level0_row8\" class=\"row_heading level0 row8\" >8</th>\n",
       "      <td id=\"T_64c1e_row8_col0\" class=\"data row8 col0\" >DETALHAMENTO</td>\n",
       "      <td id=\"T_64c1e_row8_col1\" class=\"data row8 col1\" >object</td>\n",
       "    </tr>\n",
       "    <tr>\n",
       "      <th id=\"T_64c1e_level0_row9\" class=\"row_heading level0 row9\" >9</th>\n",
       "      <td id=\"T_64c1e_row9_col0\" class=\"data row9 col0\" >VALOR_REEMBOLSADO</td>\n",
       "      <td id=\"T_64c1e_row9_col1\" class=\"data row9 col1\" >object</td>\n",
       "    </tr>\n",
       "    <tr>\n",
       "      <th id=\"T_64c1e_level0_row10\" class=\"row_heading level0 row10\" >10</th>\n",
       "      <td id=\"T_64c1e_row10_col0\" class=\"data row10 col0\" >COD_DOCUMENTO</td>\n",
       "      <td id=\"T_64c1e_row10_col1\" class=\"data row10 col1\" >int64</td>\n",
       "    </tr>\n",
       "  </tbody>\n",
       "</table>\n"
      ],
      "text/plain": [
       "<IPython.core.display.HTML object>"
      ]
     },
     "execution_count": 5,
     "metadata": {},
     "output_type": "execute_result"
    }
   ],
   "source": [
    "# Tipos das colunas\n",
    "\n",
    "\"\"\"Comentários:\n",
    "    Arrumar tipo de valor reembolsado, object para float\n",
    "    Arrumar tipo de data, object para date\n",
    "\"\"\"\n",
    "\n",
    "df_types = df_concat.dtypes.reset_index()\n",
    "df_types.rename(columns={'index': 'Coluna', 0: 'Tipo'}, inplace=True)\n",
    "display(title('Tipos das Colunas', 20))\n",
    "center_df(df_types)"
   ]
  },
  {
   "cell_type": "markdown",
   "id": "f3b56f39",
   "metadata": {},
   "source": [
    "## Criação do Dicionário de Dados\n"
   ]
  },
  {
   "cell_type": "code",
   "execution_count": 6,
   "id": "2b712852",
   "metadata": {},
   "outputs": [
    {
     "data": {
      "text/markdown": [
       "<h1 style=\"font-size:24px; text-align:center;\">Dicionário de Dados</h1>"
      ],
      "text/plain": [
       "<IPython.core.display.Markdown object>"
      ]
     },
     "metadata": {},
     "output_type": "display_data"
    },
    {
     "data": {
      "text/html": [
       "<style type=\"text/css\">\n",
       "</style>\n",
       "<table id=\"T_ff16b\" style=\"margin-left: auto; margin-right: auto;\">\n",
       "  <thead>\n",
       "    <tr>\n",
       "      <th class=\"blank level0\" >&nbsp;</th>\n",
       "      <th id=\"T_ff16b_level0_col0\" class=\"col_heading level0 col0\" >Colunas</th>\n",
       "      <th id=\"T_ff16b_level0_col1\" class=\"col_heading level0 col1\" >Descrição</th>\n",
       "    </tr>\n",
       "  </thead>\n",
       "  <tbody>\n",
       "    <tr>\n",
       "      <th id=\"T_ff16b_level0_row0\" class=\"row_heading level0 row0\" >0</th>\n",
       "      <td id=\"T_ff16b_row0_col0\" class=\"data row0 col0\" >ANO</td>\n",
       "      <td id=\"T_ff16b_row0_col1\" class=\"data row0 col1\" >Ano da Despesa</td>\n",
       "    </tr>\n",
       "    <tr>\n",
       "      <th id=\"T_ff16b_level0_row1\" class=\"row_heading level0 row1\" >1</th>\n",
       "      <td id=\"T_ff16b_row1_col0\" class=\"data row1 col0\" >MES</td>\n",
       "      <td id=\"T_ff16b_row1_col1\" class=\"data row1 col1\" >Mês da Despesa</td>\n",
       "    </tr>\n",
       "    <tr>\n",
       "      <th id=\"T_ff16b_level0_row2\" class=\"row_heading level0 row2\" >2</th>\n",
       "      <td id=\"T_ff16b_row2_col0\" class=\"data row2 col0\" >SENADOR</td>\n",
       "      <td id=\"T_ff16b_row2_col1\" class=\"data row2 col1\" >Nome do Senador que realizou a Despesa</td>\n",
       "    </tr>\n",
       "    <tr>\n",
       "      <th id=\"T_ff16b_level0_row3\" class=\"row_heading level0 row3\" >3</th>\n",
       "      <td id=\"T_ff16b_row3_col0\" class=\"data row3 col0\" >TIPO_DESPESA</td>\n",
       "      <td id=\"T_ff16b_row3_col1\" class=\"data row3 col1\" >Tipificação da Despesa</td>\n",
       "    </tr>\n",
       "    <tr>\n",
       "      <th id=\"T_ff16b_level0_row4\" class=\"row_heading level0 row4\" >4</th>\n",
       "      <td id=\"T_ff16b_row4_col0\" class=\"data row4 col0\" >CNPJ_CPF</td>\n",
       "      <td id=\"T_ff16b_row4_col1\" class=\"data row4 col1\" >CNPJ ou CPF do executor da Despesa</td>\n",
       "    </tr>\n",
       "    <tr>\n",
       "      <th id=\"T_ff16b_level0_row5\" class=\"row_heading level0 row5\" >5</th>\n",
       "      <td id=\"T_ff16b_row5_col0\" class=\"data row5 col0\" >FORNECEDOR</td>\n",
       "      <td id=\"T_ff16b_row5_col1\" class=\"data row5 col1\" >Nome do Fornecedor da Despesa</td>\n",
       "    </tr>\n",
       "    <tr>\n",
       "      <th id=\"T_ff16b_level0_row6\" class=\"row_heading level0 row6\" >6</th>\n",
       "      <td id=\"T_ff16b_row6_col0\" class=\"data row6 col0\" >DATA</td>\n",
       "      <td id=\"T_ff16b_row6_col1\" class=\"data row6 col1\" >Data de Apresentação da Despesa</td>\n",
       "    </tr>\n",
       "    <tr>\n",
       "      <th id=\"T_ff16b_level0_row7\" class=\"row_heading level0 row7\" >7</th>\n",
       "      <td id=\"T_ff16b_row7_col0\" class=\"data row7 col0\" >DETALHAMENTO</td>\n",
       "      <td id=\"T_ff16b_row7_col1\" class=\"data row7 col1\" >Detalhamento da Despesa</td>\n",
       "    </tr>\n",
       "    <tr>\n",
       "      <th id=\"T_ff16b_level0_row8\" class=\"row_heading level0 row8\" >8</th>\n",
       "      <td id=\"T_ff16b_row8_col0\" class=\"data row8 col0\" >VALOR_REEMBOLSADO</td>\n",
       "      <td id=\"T_ff16b_row8_col1\" class=\"data row8 col1\" >Valor a ser reembolsado com a Despesa</td>\n",
       "    </tr>\n",
       "  </tbody>\n",
       "</table>\n"
      ],
      "text/plain": [
       "<IPython.core.display.HTML object>"
      ]
     },
     "metadata": {},
     "output_type": "display_data"
    }
   ],
   "source": [
    "# Dicionário de Dados\n",
    "titulo = 'Dicionário de Dados'\n",
    "tamanho_fonte = 24\n",
    "\n",
    "dataframe = {'Colunas': ['ANO', \n",
    "                         'MES', \n",
    "                         'SENADOR', \n",
    "                         'TIPO_DESPESA', \n",
    "                         'CNPJ_CPF', \n",
    "                         'FORNECEDOR',\n",
    "                         'DATA', \n",
    "                         'DETALHAMENTO', \n",
    "                         'VALOR_REEMBOLSADO'],\n",
    "            'Descrição': ['Ano da Despesa', \n",
    "                          'Mês da Despesa', \n",
    "                          'Nome do Senador que realizou a Despesa',\n",
    "                          'Tipificação da Despesa',\n",
    "                          'CNPJ ou CPF do executor da Despesa',\n",
    "                          'Nome do Fornecedor da Despesa',\n",
    "                          'Data de Apresentação da Despesa',\n",
    "                          'Detalhamento da Despesa',\n",
    "                          'Valor a ser reembolsado com a Despesa']}\n",
    "\n",
    "dic = pd.DataFrame(dataframe)\n",
    "\n",
    "dic_estilizado = dic.style.set_table_attributes('style=\"margin-left: auto; margin-right: auto;\"')\n",
    "display(Markdown(f'<h1 style=\"font-size:{tamanho_fonte}px; text-align:center;\">{titulo}</h1>'))\n",
    "display(HTML(dic_estilizado.render()))\n"
   ]
  },
  {
   "cell_type": "code",
   "execution_count": 7,
   "id": "54d47d7f",
   "metadata": {},
   "outputs": [
    {
     "data": {
      "text/plain": [
       "Index(['ANO', 'MES', 'SENADOR', 'TIPO_DESPESA', 'CNPJ_CPF', 'FORNECEDOR',\n",
       "       'DOCUMENTO', 'DATA', 'DETALHAMENTO', 'VALOR_REEMBOLSADO',\n",
       "       'COD_DOCUMENTO'],\n",
       "      dtype='object')"
      ]
     },
     "execution_count": 7,
     "metadata": {},
     "output_type": "execute_result"
    }
   ],
   "source": [
    "df_concat.columns"
   ]
  },
  {
   "cell_type": "markdown",
   "id": "a8a343c4",
   "metadata": {},
   "source": [
    "### Valores Nulos"
   ]
  },
  {
   "cell_type": "code",
   "execution_count": 8,
   "id": "8d6f7c04",
   "metadata": {},
   "outputs": [
    {
     "data": {
      "text/markdown": [
       "<h1 style=\"font-size:24px; text-align:center;\">Porcentagem de Valores Nulos 2018</h1>"
      ],
      "text/plain": [
       "<IPython.core.display.Markdown object>"
      ]
     },
     "metadata": {},
     "output_type": "display_data"
    },
    {
     "data": {
      "text/html": [
       "<style type=\"text/css\">\n",
       "</style>\n",
       "<table id=\"T_374ea\" style=\"margin-left: auto; margin-right: auto;\">\n",
       "  <thead>\n",
       "    <tr>\n",
       "      <th class=\"blank level0\" >&nbsp;</th>\n",
       "      <th id=\"T_374ea_level0_col0\" class=\"col_heading level0 col0\" >Coluna</th>\n",
       "      <th id=\"T_374ea_level0_col1\" class=\"col_heading level0 col1\" >Porcentagem_Nulos</th>\n",
       "    </tr>\n",
       "  </thead>\n",
       "  <tbody>\n",
       "    <tr>\n",
       "      <th id=\"T_374ea_level0_row0\" class=\"row_heading level0 row0\" >0</th>\n",
       "      <td id=\"T_374ea_row0_col0\" class=\"data row0 col0\" >ANO</td>\n",
       "      <td id=\"T_374ea_row0_col1\" class=\"data row0 col1\" >0.000000</td>\n",
       "    </tr>\n",
       "    <tr>\n",
       "      <th id=\"T_374ea_level0_row1\" class=\"row_heading level0 row1\" >1</th>\n",
       "      <td id=\"T_374ea_row1_col0\" class=\"data row1 col0\" >MES</td>\n",
       "      <td id=\"T_374ea_row1_col1\" class=\"data row1 col1\" >0.000000</td>\n",
       "    </tr>\n",
       "    <tr>\n",
       "      <th id=\"T_374ea_level0_row2\" class=\"row_heading level0 row2\" >2</th>\n",
       "      <td id=\"T_374ea_row2_col0\" class=\"data row2 col0\" >SENADOR</td>\n",
       "      <td id=\"T_374ea_row2_col1\" class=\"data row2 col1\" >0.000000</td>\n",
       "    </tr>\n",
       "    <tr>\n",
       "      <th id=\"T_374ea_level0_row3\" class=\"row_heading level0 row3\" >3</th>\n",
       "      <td id=\"T_374ea_row3_col0\" class=\"data row3 col0\" >TIPO_DESPESA</td>\n",
       "      <td id=\"T_374ea_row3_col1\" class=\"data row3 col1\" >0.000000</td>\n",
       "    </tr>\n",
       "    <tr>\n",
       "      <th id=\"T_374ea_level0_row4\" class=\"row_heading level0 row4\" >4</th>\n",
       "      <td id=\"T_374ea_row4_col0\" class=\"data row4 col0\" >CNPJ_CPF</td>\n",
       "      <td id=\"T_374ea_row4_col1\" class=\"data row4 col1\" >0.000000</td>\n",
       "    </tr>\n",
       "    <tr>\n",
       "      <th id=\"T_374ea_level0_row5\" class=\"row_heading level0 row5\" >5</th>\n",
       "      <td id=\"T_374ea_row5_col0\" class=\"data row5 col0\" >FORNECEDOR</td>\n",
       "      <td id=\"T_374ea_row5_col1\" class=\"data row5 col1\" >0.000000</td>\n",
       "    </tr>\n",
       "    <tr>\n",
       "      <th id=\"T_374ea_level0_row6\" class=\"row_heading level0 row6\" >6</th>\n",
       "      <td id=\"T_374ea_row6_col0\" class=\"data row6 col0\" >DOCUMENTO</td>\n",
       "      <td id=\"T_374ea_row6_col1\" class=\"data row6 col1\" >4.148293</td>\n",
       "    </tr>\n",
       "    <tr>\n",
       "      <th id=\"T_374ea_level0_row7\" class=\"row_heading level0 row7\" >7</th>\n",
       "      <td id=\"T_374ea_row7_col0\" class=\"data row7 col0\" >DATA</td>\n",
       "      <td id=\"T_374ea_row7_col1\" class=\"data row7 col1\" >0.000000</td>\n",
       "    </tr>\n",
       "    <tr>\n",
       "      <th id=\"T_374ea_level0_row8\" class=\"row_heading level0 row8\" >8</th>\n",
       "      <td id=\"T_374ea_row8_col0\" class=\"data row8 col0\" >DETALHAMENTO</td>\n",
       "      <td id=\"T_374ea_row8_col1\" class=\"data row8 col1\" >22.905439</td>\n",
       "    </tr>\n",
       "    <tr>\n",
       "      <th id=\"T_374ea_level0_row9\" class=\"row_heading level0 row9\" >9</th>\n",
       "      <td id=\"T_374ea_row9_col0\" class=\"data row9 col0\" >VALOR_REEMBOLSADO</td>\n",
       "      <td id=\"T_374ea_row9_col1\" class=\"data row9 col1\" >0.000000</td>\n",
       "    </tr>\n",
       "    <tr>\n",
       "      <th id=\"T_374ea_level0_row10\" class=\"row_heading level0 row10\" >10</th>\n",
       "      <td id=\"T_374ea_row10_col0\" class=\"data row10 col0\" >COD_DOCUMENTO</td>\n",
       "      <td id=\"T_374ea_row10_col1\" class=\"data row10 col1\" >0.000000</td>\n",
       "    </tr>\n",
       "  </tbody>\n",
       "</table>\n"
      ],
      "text/plain": [
       "<IPython.core.display.HTML object>"
      ]
     },
     "execution_count": 8,
     "metadata": {},
     "output_type": "execute_result"
    }
   ],
   "source": [
    "null_2018 = nulls(data_2018).reset_index()\n",
    "null_2018.rename(columns={'index': 'Coluna', 0: 'Porcentagem_Nulos'}, inplace=True)\n",
    "\n",
    "display(title('Porcentagem de Valores Nulos 2018', 24))\n",
    "center_df(null_2018)"
   ]
  },
  {
   "cell_type": "code",
   "execution_count": 9,
   "id": "77d4ce5e",
   "metadata": {},
   "outputs": [
    {
     "data": {
      "text/markdown": [
       "<h1 style=\"font-size:24px; text-align:center;\">Porcentagem de Valores Nulos 2019</h1>"
      ],
      "text/plain": [
       "<IPython.core.display.Markdown object>"
      ]
     },
     "metadata": {},
     "output_type": "display_data"
    },
    {
     "data": {
      "text/html": [
       "<style type=\"text/css\">\n",
       "</style>\n",
       "<table id=\"T_9fd3c\" style=\"margin-left: auto; margin-right: auto;\">\n",
       "  <thead>\n",
       "    <tr>\n",
       "      <th class=\"blank level0\" >&nbsp;</th>\n",
       "      <th id=\"T_9fd3c_level0_col0\" class=\"col_heading level0 col0\" >Coluna</th>\n",
       "      <th id=\"T_9fd3c_level0_col1\" class=\"col_heading level0 col1\" >Porcentagem_Nulos</th>\n",
       "    </tr>\n",
       "  </thead>\n",
       "  <tbody>\n",
       "    <tr>\n",
       "      <th id=\"T_9fd3c_level0_row0\" class=\"row_heading level0 row0\" >0</th>\n",
       "      <td id=\"T_9fd3c_row0_col0\" class=\"data row0 col0\" >ANO</td>\n",
       "      <td id=\"T_9fd3c_row0_col1\" class=\"data row0 col1\" >0.000000</td>\n",
       "    </tr>\n",
       "    <tr>\n",
       "      <th id=\"T_9fd3c_level0_row1\" class=\"row_heading level0 row1\" >1</th>\n",
       "      <td id=\"T_9fd3c_row1_col0\" class=\"data row1 col0\" >MES</td>\n",
       "      <td id=\"T_9fd3c_row1_col1\" class=\"data row1 col1\" >0.000000</td>\n",
       "    </tr>\n",
       "    <tr>\n",
       "      <th id=\"T_9fd3c_level0_row2\" class=\"row_heading level0 row2\" >2</th>\n",
       "      <td id=\"T_9fd3c_row2_col0\" class=\"data row2 col0\" >SENADOR</td>\n",
       "      <td id=\"T_9fd3c_row2_col1\" class=\"data row2 col1\" >0.000000</td>\n",
       "    </tr>\n",
       "    <tr>\n",
       "      <th id=\"T_9fd3c_level0_row3\" class=\"row_heading level0 row3\" >3</th>\n",
       "      <td id=\"T_9fd3c_row3_col0\" class=\"data row3 col0\" >TIPO_DESPESA</td>\n",
       "      <td id=\"T_9fd3c_row3_col1\" class=\"data row3 col1\" >0.000000</td>\n",
       "    </tr>\n",
       "    <tr>\n",
       "      <th id=\"T_9fd3c_level0_row4\" class=\"row_heading level0 row4\" >4</th>\n",
       "      <td id=\"T_9fd3c_row4_col0\" class=\"data row4 col0\" >CNPJ_CPF</td>\n",
       "      <td id=\"T_9fd3c_row4_col1\" class=\"data row4 col1\" >0.000000</td>\n",
       "    </tr>\n",
       "    <tr>\n",
       "      <th id=\"T_9fd3c_level0_row5\" class=\"row_heading level0 row5\" >5</th>\n",
       "      <td id=\"T_9fd3c_row5_col0\" class=\"data row5 col0\" >FORNECEDOR</td>\n",
       "      <td id=\"T_9fd3c_row5_col1\" class=\"data row5 col1\" >0.000000</td>\n",
       "    </tr>\n",
       "    <tr>\n",
       "      <th id=\"T_9fd3c_level0_row6\" class=\"row_heading level0 row6\" >6</th>\n",
       "      <td id=\"T_9fd3c_row6_col0\" class=\"data row6 col0\" >DOCUMENTO</td>\n",
       "      <td id=\"T_9fd3c_row6_col1\" class=\"data row6 col1\" >3.392808</td>\n",
       "    </tr>\n",
       "    <tr>\n",
       "      <th id=\"T_9fd3c_level0_row7\" class=\"row_heading level0 row7\" >7</th>\n",
       "      <td id=\"T_9fd3c_row7_col0\" class=\"data row7 col0\" >DATA</td>\n",
       "      <td id=\"T_9fd3c_row7_col1\" class=\"data row7 col1\" >0.000000</td>\n",
       "    </tr>\n",
       "    <tr>\n",
       "      <th id=\"T_9fd3c_level0_row8\" class=\"row_heading level0 row8\" >8</th>\n",
       "      <td id=\"T_9fd3c_row8_col0\" class=\"data row8 col0\" >DETALHAMENTO</td>\n",
       "      <td id=\"T_9fd3c_row8_col1\" class=\"data row8 col1\" >39.484145</td>\n",
       "    </tr>\n",
       "    <tr>\n",
       "      <th id=\"T_9fd3c_level0_row9\" class=\"row_heading level0 row9\" >9</th>\n",
       "      <td id=\"T_9fd3c_row9_col0\" class=\"data row9 col0\" >VALOR_REEMBOLSADO</td>\n",
       "      <td id=\"T_9fd3c_row9_col1\" class=\"data row9 col1\" >0.000000</td>\n",
       "    </tr>\n",
       "    <tr>\n",
       "      <th id=\"T_9fd3c_level0_row10\" class=\"row_heading level0 row10\" >10</th>\n",
       "      <td id=\"T_9fd3c_row10_col0\" class=\"data row10 col0\" >COD_DOCUMENTO</td>\n",
       "      <td id=\"T_9fd3c_row10_col1\" class=\"data row10 col1\" >0.000000</td>\n",
       "    </tr>\n",
       "  </tbody>\n",
       "</table>\n"
      ],
      "text/plain": [
       "<IPython.core.display.HTML object>"
      ]
     },
     "execution_count": 9,
     "metadata": {},
     "output_type": "execute_result"
    }
   ],
   "source": [
    "null_2019 = nulls(data_2019).reset_index()\n",
    "null_2019.rename(columns={'index': 'Coluna', 0: 'Porcentagem_Nulos'}, inplace=True)\n",
    "\n",
    "display(title('Porcentagem de Valores Nulos 2019', 24))\n",
    "center_df(null_2019)"
   ]
  },
  {
   "cell_type": "code",
   "execution_count": 10,
   "id": "b443945a",
   "metadata": {},
   "outputs": [
    {
     "data": {
      "text/markdown": [
       "<h1 style=\"font-size:24px; text-align:center;\">Porcentagem de Valores Nulos 2020</h1>"
      ],
      "text/plain": [
       "<IPython.core.display.Markdown object>"
      ]
     },
     "metadata": {},
     "output_type": "display_data"
    },
    {
     "data": {
      "text/html": [
       "<style type=\"text/css\">\n",
       "</style>\n",
       "<table id=\"T_b79c3\" style=\"margin-left: auto; margin-right: auto;\">\n",
       "  <thead>\n",
       "    <tr>\n",
       "      <th class=\"blank level0\" >&nbsp;</th>\n",
       "      <th id=\"T_b79c3_level0_col0\" class=\"col_heading level0 col0\" >Coluna</th>\n",
       "      <th id=\"T_b79c3_level0_col1\" class=\"col_heading level0 col1\" >Porcentagem_Nulos</th>\n",
       "    </tr>\n",
       "  </thead>\n",
       "  <tbody>\n",
       "    <tr>\n",
       "      <th id=\"T_b79c3_level0_row0\" class=\"row_heading level0 row0\" >0</th>\n",
       "      <td id=\"T_b79c3_row0_col0\" class=\"data row0 col0\" >ANO</td>\n",
       "      <td id=\"T_b79c3_row0_col1\" class=\"data row0 col1\" >0.000000</td>\n",
       "    </tr>\n",
       "    <tr>\n",
       "      <th id=\"T_b79c3_level0_row1\" class=\"row_heading level0 row1\" >1</th>\n",
       "      <td id=\"T_b79c3_row1_col0\" class=\"data row1 col0\" >MES</td>\n",
       "      <td id=\"T_b79c3_row1_col1\" class=\"data row1 col1\" >0.000000</td>\n",
       "    </tr>\n",
       "    <tr>\n",
       "      <th id=\"T_b79c3_level0_row2\" class=\"row_heading level0 row2\" >2</th>\n",
       "      <td id=\"T_b79c3_row2_col0\" class=\"data row2 col0\" >SENADOR</td>\n",
       "      <td id=\"T_b79c3_row2_col1\" class=\"data row2 col1\" >0.000000</td>\n",
       "    </tr>\n",
       "    <tr>\n",
       "      <th id=\"T_b79c3_level0_row3\" class=\"row_heading level0 row3\" >3</th>\n",
       "      <td id=\"T_b79c3_row3_col0\" class=\"data row3 col0\" >TIPO_DESPESA</td>\n",
       "      <td id=\"T_b79c3_row3_col1\" class=\"data row3 col1\" >0.000000</td>\n",
       "    </tr>\n",
       "    <tr>\n",
       "      <th id=\"T_b79c3_level0_row4\" class=\"row_heading level0 row4\" >4</th>\n",
       "      <td id=\"T_b79c3_row4_col0\" class=\"data row4 col0\" >CNPJ_CPF</td>\n",
       "      <td id=\"T_b79c3_row4_col1\" class=\"data row4 col1\" >0.000000</td>\n",
       "    </tr>\n",
       "    <tr>\n",
       "      <th id=\"T_b79c3_level0_row5\" class=\"row_heading level0 row5\" >5</th>\n",
       "      <td id=\"T_b79c3_row5_col0\" class=\"data row5 col0\" >FORNECEDOR</td>\n",
       "      <td id=\"T_b79c3_row5_col1\" class=\"data row5 col1\" >0.000000</td>\n",
       "    </tr>\n",
       "    <tr>\n",
       "      <th id=\"T_b79c3_level0_row6\" class=\"row_heading level0 row6\" >6</th>\n",
       "      <td id=\"T_b79c3_row6_col0\" class=\"data row6 col0\" >DOCUMENTO</td>\n",
       "      <td id=\"T_b79c3_row6_col1\" class=\"data row6 col1\" >4.400284</td>\n",
       "    </tr>\n",
       "    <tr>\n",
       "      <th id=\"T_b79c3_level0_row7\" class=\"row_heading level0 row7\" >7</th>\n",
       "      <td id=\"T_b79c3_row7_col0\" class=\"data row7 col0\" >DATA</td>\n",
       "      <td id=\"T_b79c3_row7_col1\" class=\"data row7 col1\" >0.000000</td>\n",
       "    </tr>\n",
       "    <tr>\n",
       "      <th id=\"T_b79c3_level0_row8\" class=\"row_heading level0 row8\" >8</th>\n",
       "      <td id=\"T_b79c3_row8_col0\" class=\"data row8 col0\" >DETALHAMENTO</td>\n",
       "      <td id=\"T_b79c3_row8_col1\" class=\"data row8 col1\" >48.701207</td>\n",
       "    </tr>\n",
       "    <tr>\n",
       "      <th id=\"T_b79c3_level0_row9\" class=\"row_heading level0 row9\" >9</th>\n",
       "      <td id=\"T_b79c3_row9_col0\" class=\"data row9 col0\" >VALOR_REEMBOLSADO</td>\n",
       "      <td id=\"T_b79c3_row9_col1\" class=\"data row9 col1\" >0.000000</td>\n",
       "    </tr>\n",
       "    <tr>\n",
       "      <th id=\"T_b79c3_level0_row10\" class=\"row_heading level0 row10\" >10</th>\n",
       "      <td id=\"T_b79c3_row10_col0\" class=\"data row10 col0\" >COD_DOCUMENTO</td>\n",
       "      <td id=\"T_b79c3_row10_col1\" class=\"data row10 col1\" >0.000000</td>\n",
       "    </tr>\n",
       "  </tbody>\n",
       "</table>\n"
      ],
      "text/plain": [
       "<IPython.core.display.HTML object>"
      ]
     },
     "execution_count": 10,
     "metadata": {},
     "output_type": "execute_result"
    }
   ],
   "source": [
    "null_2020 = nulls(data_2020).reset_index()\n",
    "null_2020.rename(columns={'index': 'Coluna', 0: 'Porcentagem_Nulos'}, inplace=True)\n",
    "\n",
    "display(title('Porcentagem de Valores Nulos 2020', 24))\n",
    "center_df(null_2020)"
   ]
  },
  {
   "cell_type": "code",
   "execution_count": 11,
   "id": "53ee1a54",
   "metadata": {},
   "outputs": [
    {
     "data": {
      "text/markdown": [
       "<h1 style=\"font-size:24px; text-align:center;\">Porcentagem de Valores Nulos 2021</h1>"
      ],
      "text/plain": [
       "<IPython.core.display.Markdown object>"
      ]
     },
     "metadata": {},
     "output_type": "display_data"
    },
    {
     "data": {
      "text/html": [
       "<style type=\"text/css\">\n",
       "</style>\n",
       "<table id=\"T_43195\" style=\"margin-left: auto; margin-right: auto;\">\n",
       "  <thead>\n",
       "    <tr>\n",
       "      <th class=\"blank level0\" >&nbsp;</th>\n",
       "      <th id=\"T_43195_level0_col0\" class=\"col_heading level0 col0\" >Coluna</th>\n",
       "      <th id=\"T_43195_level0_col1\" class=\"col_heading level0 col1\" >Porcentagem_Nulos</th>\n",
       "    </tr>\n",
       "  </thead>\n",
       "  <tbody>\n",
       "    <tr>\n",
       "      <th id=\"T_43195_level0_row0\" class=\"row_heading level0 row0\" >0</th>\n",
       "      <td id=\"T_43195_row0_col0\" class=\"data row0 col0\" >ANO</td>\n",
       "      <td id=\"T_43195_row0_col1\" class=\"data row0 col1\" >0.000000</td>\n",
       "    </tr>\n",
       "    <tr>\n",
       "      <th id=\"T_43195_level0_row1\" class=\"row_heading level0 row1\" >1</th>\n",
       "      <td id=\"T_43195_row1_col0\" class=\"data row1 col0\" >MES</td>\n",
       "      <td id=\"T_43195_row1_col1\" class=\"data row1 col1\" >0.000000</td>\n",
       "    </tr>\n",
       "    <tr>\n",
       "      <th id=\"T_43195_level0_row2\" class=\"row_heading level0 row2\" >2</th>\n",
       "      <td id=\"T_43195_row2_col0\" class=\"data row2 col0\" >SENADOR</td>\n",
       "      <td id=\"T_43195_row2_col1\" class=\"data row2 col1\" >0.000000</td>\n",
       "    </tr>\n",
       "    <tr>\n",
       "      <th id=\"T_43195_level0_row3\" class=\"row_heading level0 row3\" >3</th>\n",
       "      <td id=\"T_43195_row3_col0\" class=\"data row3 col0\" >TIPO_DESPESA</td>\n",
       "      <td id=\"T_43195_row3_col1\" class=\"data row3 col1\" >0.000000</td>\n",
       "    </tr>\n",
       "    <tr>\n",
       "      <th id=\"T_43195_level0_row4\" class=\"row_heading level0 row4\" >4</th>\n",
       "      <td id=\"T_43195_row4_col0\" class=\"data row4 col0\" >CNPJ_CPF</td>\n",
       "      <td id=\"T_43195_row4_col1\" class=\"data row4 col1\" >0.000000</td>\n",
       "    </tr>\n",
       "    <tr>\n",
       "      <th id=\"T_43195_level0_row5\" class=\"row_heading level0 row5\" >5</th>\n",
       "      <td id=\"T_43195_row5_col0\" class=\"data row5 col0\" >FORNECEDOR</td>\n",
       "      <td id=\"T_43195_row5_col1\" class=\"data row5 col1\" >0.000000</td>\n",
       "    </tr>\n",
       "    <tr>\n",
       "      <th id=\"T_43195_level0_row6\" class=\"row_heading level0 row6\" >6</th>\n",
       "      <td id=\"T_43195_row6_col0\" class=\"data row6 col0\" >DOCUMENTO</td>\n",
       "      <td id=\"T_43195_row6_col1\" class=\"data row6 col1\" >4.011410</td>\n",
       "    </tr>\n",
       "    <tr>\n",
       "      <th id=\"T_43195_level0_row7\" class=\"row_heading level0 row7\" >7</th>\n",
       "      <td id=\"T_43195_row7_col0\" class=\"data row7 col0\" >DATA</td>\n",
       "      <td id=\"T_43195_row7_col1\" class=\"data row7 col1\" >0.000000</td>\n",
       "    </tr>\n",
       "    <tr>\n",
       "      <th id=\"T_43195_level0_row8\" class=\"row_heading level0 row8\" >8</th>\n",
       "      <td id=\"T_43195_row8_col0\" class=\"data row8 col0\" >DETALHAMENTO</td>\n",
       "      <td id=\"T_43195_row8_col1\" class=\"data row8 col1\" >45.320021</td>\n",
       "    </tr>\n",
       "    <tr>\n",
       "      <th id=\"T_43195_level0_row9\" class=\"row_heading level0 row9\" >9</th>\n",
       "      <td id=\"T_43195_row9_col0\" class=\"data row9 col0\" >VALOR_REEMBOLSADO</td>\n",
       "      <td id=\"T_43195_row9_col1\" class=\"data row9 col1\" >0.000000</td>\n",
       "    </tr>\n",
       "    <tr>\n",
       "      <th id=\"T_43195_level0_row10\" class=\"row_heading level0 row10\" >10</th>\n",
       "      <td id=\"T_43195_row10_col0\" class=\"data row10 col0\" >COD_DOCUMENTO</td>\n",
       "      <td id=\"T_43195_row10_col1\" class=\"data row10 col1\" >0.000000</td>\n",
       "    </tr>\n",
       "  </tbody>\n",
       "</table>\n"
      ],
      "text/plain": [
       "<IPython.core.display.HTML object>"
      ]
     },
     "execution_count": 11,
     "metadata": {},
     "output_type": "execute_result"
    }
   ],
   "source": [
    "null_2021 = nulls(data_2021).reset_index()\n",
    "null_2021.rename(columns={'index': 'Coluna', 0: 'Porcentagem_Nulos'}, inplace=True)\n",
    "\n",
    "display(title('Porcentagem de Valores Nulos 2021', 24))\n",
    "center_df(null_2021)"
   ]
  },
  {
   "cell_type": "code",
   "execution_count": 12,
   "id": "c36fb0dd",
   "metadata": {},
   "outputs": [
    {
     "data": {
      "text/markdown": [
       "<h1 style=\"font-size:24px; text-align:center;\">Porcentagem de Valores Nulos 2022</h1>"
      ],
      "text/plain": [
       "<IPython.core.display.Markdown object>"
      ]
     },
     "metadata": {},
     "output_type": "display_data"
    },
    {
     "data": {
      "text/html": [
       "<style type=\"text/css\">\n",
       "</style>\n",
       "<table id=\"T_63a62\" style=\"margin-left: auto; margin-right: auto;\">\n",
       "  <thead>\n",
       "    <tr>\n",
       "      <th class=\"blank level0\" >&nbsp;</th>\n",
       "      <th id=\"T_63a62_level0_col0\" class=\"col_heading level0 col0\" >Coluna</th>\n",
       "      <th id=\"T_63a62_level0_col1\" class=\"col_heading level0 col1\" >Porcentagem_Nulos</th>\n",
       "    </tr>\n",
       "  </thead>\n",
       "  <tbody>\n",
       "    <tr>\n",
       "      <th id=\"T_63a62_level0_row0\" class=\"row_heading level0 row0\" >0</th>\n",
       "      <td id=\"T_63a62_row0_col0\" class=\"data row0 col0\" >ANO</td>\n",
       "      <td id=\"T_63a62_row0_col1\" class=\"data row0 col1\" >0.000000</td>\n",
       "    </tr>\n",
       "    <tr>\n",
       "      <th id=\"T_63a62_level0_row1\" class=\"row_heading level0 row1\" >1</th>\n",
       "      <td id=\"T_63a62_row1_col0\" class=\"data row1 col0\" >MES</td>\n",
       "      <td id=\"T_63a62_row1_col1\" class=\"data row1 col1\" >0.000000</td>\n",
       "    </tr>\n",
       "    <tr>\n",
       "      <th id=\"T_63a62_level0_row2\" class=\"row_heading level0 row2\" >2</th>\n",
       "      <td id=\"T_63a62_row2_col0\" class=\"data row2 col0\" >SENADOR</td>\n",
       "      <td id=\"T_63a62_row2_col1\" class=\"data row2 col1\" >0.000000</td>\n",
       "    </tr>\n",
       "    <tr>\n",
       "      <th id=\"T_63a62_level0_row3\" class=\"row_heading level0 row3\" >3</th>\n",
       "      <td id=\"T_63a62_row3_col0\" class=\"data row3 col0\" >TIPO_DESPESA</td>\n",
       "      <td id=\"T_63a62_row3_col1\" class=\"data row3 col1\" >0.000000</td>\n",
       "    </tr>\n",
       "    <tr>\n",
       "      <th id=\"T_63a62_level0_row4\" class=\"row_heading level0 row4\" >4</th>\n",
       "      <td id=\"T_63a62_row4_col0\" class=\"data row4 col0\" >CNPJ_CPF</td>\n",
       "      <td id=\"T_63a62_row4_col1\" class=\"data row4 col1\" >0.000000</td>\n",
       "    </tr>\n",
       "    <tr>\n",
       "      <th id=\"T_63a62_level0_row5\" class=\"row_heading level0 row5\" >5</th>\n",
       "      <td id=\"T_63a62_row5_col0\" class=\"data row5 col0\" >FORNECEDOR</td>\n",
       "      <td id=\"T_63a62_row5_col1\" class=\"data row5 col1\" >0.000000</td>\n",
       "    </tr>\n",
       "    <tr>\n",
       "      <th id=\"T_63a62_level0_row6\" class=\"row_heading level0 row6\" >6</th>\n",
       "      <td id=\"T_63a62_row6_col0\" class=\"data row6 col0\" >DOCUMENTO</td>\n",
       "      <td id=\"T_63a62_row6_col1\" class=\"data row6 col1\" >5.580811</td>\n",
       "    </tr>\n",
       "    <tr>\n",
       "      <th id=\"T_63a62_level0_row7\" class=\"row_heading level0 row7\" >7</th>\n",
       "      <td id=\"T_63a62_row7_col0\" class=\"data row7 col0\" >DATA</td>\n",
       "      <td id=\"T_63a62_row7_col1\" class=\"data row7 col1\" >0.000000</td>\n",
       "    </tr>\n",
       "    <tr>\n",
       "      <th id=\"T_63a62_level0_row8\" class=\"row_heading level0 row8\" >8</th>\n",
       "      <td id=\"T_63a62_row8_col0\" class=\"data row8 col0\" >DETALHAMENTO</td>\n",
       "      <td id=\"T_63a62_row8_col1\" class=\"data row8 col1\" >45.836823</td>\n",
       "    </tr>\n",
       "    <tr>\n",
       "      <th id=\"T_63a62_level0_row9\" class=\"row_heading level0 row9\" >9</th>\n",
       "      <td id=\"T_63a62_row9_col0\" class=\"data row9 col0\" >VALOR_REEMBOLSADO</td>\n",
       "      <td id=\"T_63a62_row9_col1\" class=\"data row9 col1\" >0.000000</td>\n",
       "    </tr>\n",
       "    <tr>\n",
       "      <th id=\"T_63a62_level0_row10\" class=\"row_heading level0 row10\" >10</th>\n",
       "      <td id=\"T_63a62_row10_col0\" class=\"data row10 col0\" >COD_DOCUMENTO</td>\n",
       "      <td id=\"T_63a62_row10_col1\" class=\"data row10 col1\" >0.000000</td>\n",
       "    </tr>\n",
       "  </tbody>\n",
       "</table>\n"
      ],
      "text/plain": [
       "<IPython.core.display.HTML object>"
      ]
     },
     "execution_count": 12,
     "metadata": {},
     "output_type": "execute_result"
    }
   ],
   "source": [
    "null_2022 = nulls(data_2022).reset_index()\n",
    "null_2022.rename(columns={'index': 'Coluna', 0: 'Porcentagem_Nulos'}, inplace=True)\n",
    "\n",
    "display(title('Porcentagem de Valores Nulos 2022', 24))\n",
    "center_df(null_2022)"
   ]
  },
  {
   "cell_type": "code",
   "execution_count": 13,
   "id": "6709c6b4",
   "metadata": {},
   "outputs": [
    {
     "data": {
      "text/markdown": [
       "<h1 style=\"font-size:24px; text-align:center;\">Porcentagem de Valores Nulos 2018-2022</h1>"
      ],
      "text/plain": [
       "<IPython.core.display.Markdown object>"
      ]
     },
     "metadata": {},
     "output_type": "display_data"
    },
    {
     "data": {
      "text/html": [
       "<style type=\"text/css\">\n",
       "</style>\n",
       "<table id=\"T_5b747\" style=\"margin-left: auto; margin-right: auto;\">\n",
       "  <thead>\n",
       "    <tr>\n",
       "      <th class=\"blank level0\" >&nbsp;</th>\n",
       "      <th id=\"T_5b747_level0_col0\" class=\"col_heading level0 col0\" >Coluna</th>\n",
       "      <th id=\"T_5b747_level0_col1\" class=\"col_heading level0 col1\" >Porcentagem_Nulos</th>\n",
       "    </tr>\n",
       "  </thead>\n",
       "  <tbody>\n",
       "    <tr>\n",
       "      <th id=\"T_5b747_level0_row0\" class=\"row_heading level0 row0\" >0</th>\n",
       "      <td id=\"T_5b747_row0_col0\" class=\"data row0 col0\" >ANO</td>\n",
       "      <td id=\"T_5b747_row0_col1\" class=\"data row0 col1\" >0.000000</td>\n",
       "    </tr>\n",
       "    <tr>\n",
       "      <th id=\"T_5b747_level0_row1\" class=\"row_heading level0 row1\" >1</th>\n",
       "      <td id=\"T_5b747_row1_col0\" class=\"data row1 col0\" >MES</td>\n",
       "      <td id=\"T_5b747_row1_col1\" class=\"data row1 col1\" >0.000000</td>\n",
       "    </tr>\n",
       "    <tr>\n",
       "      <th id=\"T_5b747_level0_row2\" class=\"row_heading level0 row2\" >2</th>\n",
       "      <td id=\"T_5b747_row2_col0\" class=\"data row2 col0\" >SENADOR</td>\n",
       "      <td id=\"T_5b747_row2_col1\" class=\"data row2 col1\" >0.000000</td>\n",
       "    </tr>\n",
       "    <tr>\n",
       "      <th id=\"T_5b747_level0_row3\" class=\"row_heading level0 row3\" >3</th>\n",
       "      <td id=\"T_5b747_row3_col0\" class=\"data row3 col0\" >TIPO_DESPESA</td>\n",
       "      <td id=\"T_5b747_row3_col1\" class=\"data row3 col1\" >0.000000</td>\n",
       "    </tr>\n",
       "    <tr>\n",
       "      <th id=\"T_5b747_level0_row4\" class=\"row_heading level0 row4\" >4</th>\n",
       "      <td id=\"T_5b747_row4_col0\" class=\"data row4 col0\" >CNPJ_CPF</td>\n",
       "      <td id=\"T_5b747_row4_col1\" class=\"data row4 col1\" >0.000000</td>\n",
       "    </tr>\n",
       "    <tr>\n",
       "      <th id=\"T_5b747_level0_row5\" class=\"row_heading level0 row5\" >5</th>\n",
       "      <td id=\"T_5b747_row5_col0\" class=\"data row5 col0\" >FORNECEDOR</td>\n",
       "      <td id=\"T_5b747_row5_col1\" class=\"data row5 col1\" >0.000000</td>\n",
       "    </tr>\n",
       "    <tr>\n",
       "      <th id=\"T_5b747_level0_row6\" class=\"row_heading level0 row6\" >6</th>\n",
       "      <td id=\"T_5b747_row6_col0\" class=\"data row6 col0\" >DOCUMENTO</td>\n",
       "      <td id=\"T_5b747_row6_col1\" class=\"data row6 col1\" >4.242702</td>\n",
       "    </tr>\n",
       "    <tr>\n",
       "      <th id=\"T_5b747_level0_row7\" class=\"row_heading level0 row7\" >7</th>\n",
       "      <td id=\"T_5b747_row7_col0\" class=\"data row7 col0\" >DATA</td>\n",
       "      <td id=\"T_5b747_row7_col1\" class=\"data row7 col1\" >0.000000</td>\n",
       "    </tr>\n",
       "    <tr>\n",
       "      <th id=\"T_5b747_level0_row8\" class=\"row_heading level0 row8\" >8</th>\n",
       "      <td id=\"T_5b747_row8_col0\" class=\"data row8 col0\" >DETALHAMENTO</td>\n",
       "      <td id=\"T_5b747_row8_col1\" class=\"data row8 col1\" >38.718657</td>\n",
       "    </tr>\n",
       "    <tr>\n",
       "      <th id=\"T_5b747_level0_row9\" class=\"row_heading level0 row9\" >9</th>\n",
       "      <td id=\"T_5b747_row9_col0\" class=\"data row9 col0\" >VALOR_REEMBOLSADO</td>\n",
       "      <td id=\"T_5b747_row9_col1\" class=\"data row9 col1\" >0.000000</td>\n",
       "    </tr>\n",
       "    <tr>\n",
       "      <th id=\"T_5b747_level0_row10\" class=\"row_heading level0 row10\" >10</th>\n",
       "      <td id=\"T_5b747_row10_col0\" class=\"data row10 col0\" >COD_DOCUMENTO</td>\n",
       "      <td id=\"T_5b747_row10_col1\" class=\"data row10 col1\" >0.000000</td>\n",
       "    </tr>\n",
       "  </tbody>\n",
       "</table>\n"
      ],
      "text/plain": [
       "<IPython.core.display.HTML object>"
      ]
     },
     "execution_count": 13,
     "metadata": {},
     "output_type": "execute_result"
    }
   ],
   "source": [
    "\"\"\" Comentários:\n",
    "    Atentar para os valores nulos da coluna DETALHAMENTO que tiveram um aumento importante na virada de governo\n",
    "    Quem são os senadores que mais possuem nulosna coluna DETALHAMENTO?\"\"\"\n",
    "null_concat = nulls(df_concat).reset_index()\n",
    "null_concat.rename(columns={'index': 'Coluna', 0: 'Porcentagem_Nulos'}, inplace=True)\n",
    "\n",
    "display(title('Porcentagem de Valores Nulos 2018-2022', 24))\n",
    "center_df(null_concat)\n"
   ]
  },
  {
   "cell_type": "markdown",
   "id": "2953d307",
   "metadata": {},
   "source": [
    "### Histograma das Variáveis Categóricas"
   ]
  },
  {
   "cell_type": "code",
   "execution_count": null,
   "id": "358675c8",
   "metadata": {
    "scrolled": true
   },
   "outputs": [],
   "source": [
    "#Criação histogramas\n",
    "plt.figure(figsize=(40, 50))\n",
    "#Seleção dos valores categóricos\n",
    "column_list = list(df_concat.columns.values)[2:7]\n",
    "\n",
    "A = 0\n",
    "\n",
    "for i in column_list:\n",
    "    A += 1\n",
    "    plt.subplot(5, 2, A)\n",
    "    ax = sns.countplot(data = df_concat.fillna('NaN'), x = i)\n",
    "    plt.title(i, fontsize = 15)\n",
    "    for p in ax.patches:\n",
    "        ax.annotate(f'\\n{p.get_height()}', (p.get_x() + 0.4, p.get_height()), ha = 'center', color = 'black', size = 12)\n",
    "        if A >=6:\n",
    "            plt.xticks(rotation=45)\n",
    "\n",
    "plt.tight_layout(h_pad = 2)\n"
   ]
  },
  {
   "cell_type": "markdown",
   "id": "e8c18ac3",
   "metadata": {},
   "source": [
    "### Boxplot Variáveis Numéricas"
   ]
  },
  {
   "cell_type": "code",
   "execution_count": null,
   "id": "d85a8b31",
   "metadata": {
    "scrolled": true
   },
   "outputs": [],
   "source": [
    "# Configurar os subplots\n",
    "fig, axes = plt.subplots(nrows=1, ncols=5, figsize=(12, 4))  # Define o número de linhas e colunas de subplots e o tamanho da figura\n",
    "\n",
    "# Utiliza o loop para criar um boxplot para cada ano em um subplot\n",
    "for i, ano in enumerate(range(2018, 2023)):\n",
    "    dados_ano = df_concat[df_concat['ANO'] == ano]  # Filtra os dados para o ano atual\n",
    "    sns.boxplot(data=dados_ano, x='ANO', y='VALOR_REEMBOLSADO', ax=axes[i])  # Cria o boxplot no subplot atual\n",
    "    axes[i].set_title(f'Ano {ano}', fontsize=12)  # Define o título do subplot\n",
    "    axes[i].set_xlabel('Ano', fontsize=10)  # Define o rótulo do eixo x do subplot\n",
    "    axes[i].set_ylabel('Valor Reembolsado', fontsize=10)  # Define o rótulo do eixo y do subplot\n",
    "\n",
    "plt.tight_layout()  # Ajusta o espaçamento entre os subplots\n",
    "plt.show()  # Exibe os subplots com os boxplots\n",
    "\n"
   ]
  },
  {
   "cell_type": "markdown",
   "id": "f2faad7f",
   "metadata": {},
   "source": [
    "## Tratamento dos Dados"
   ]
  },
  {
   "cell_type": "code",
   "execution_count": null,
   "id": "d1f91986",
   "metadata": {},
   "outputs": [],
   "source": [
    "# Retirando as colunas que não serão utilizadas\n",
    "columns_list = ['DOCUMENTO', 'COD_DOCUMENTO']\n",
    "df_concat = drop(df_concat, columns_list)\n",
    "data_2018 = drop(data_2018, columns_list)\n",
    "data_2019 = drop(data_2019, columns_list)\n",
    "data_2020 = drop(data_2020, columns_list)\n",
    "data_2021 = drop(data_2021, columns_list)\n",
    "data_2022 = drop(data_2022, columns_list)"
   ]
  },
  {
   "cell_type": "code",
   "execution_count": null,
   "id": "7839f92e",
   "metadata": {},
   "outputs": [],
   "source": [
    "# Tratamento dos valores da coluna VALOR_REEMBOLSADO (retirando , e inserindo .) e do tipo da coluna (object to float)\n",
    "treat_value(df_concat)\n",
    "treat_value(data_2018)\n",
    "treat_value(data_2019)\n",
    "treat_value(data_2020)\n",
    "treat_value(data_2021)\n",
    "treat_value(data_2022)"
   ]
  },
  {
   "cell_type": "code",
   "execution_count": null,
   "id": "1f39401e",
   "metadata": {},
   "outputs": [],
   "source": [
    "# Tratamento do tipo da coluna DATA\n",
    "todate(df_concat)\n",
    "todate(data_2018)\n",
    "todate(data_2019)\n",
    "todate(data_2020)\n",
    "todate(data_2021)\n",
    "todate(data_2022)\n",
    "\n",
    "data_2022.dtypes"
   ]
  },
  {
   "cell_type": "markdown",
   "id": "77551819",
   "metadata": {},
   "source": [
    "### DataFrames de Contagem de Nulos na Coluna Detalhamento por Senador"
   ]
  },
  {
   "cell_type": "code",
   "execution_count": null,
   "id": "c6eef236",
   "metadata": {},
   "outputs": [],
   "source": [
    "# Use o método isnull() para criar uma máscara booleana indicando quais valores são nulos\n",
    "mask = df_concat['DETALHAMENTO'].isnull()\n",
    "\n",
    "# Aplique a máscara booleana para filtrar as linhas com valores nulos na coluna 'B'\n",
    "df_filtrado = df_concat[mask]\n",
    "df_filtrado['SENADOR'].value_counts()"
   ]
  },
  {
   "cell_type": "markdown",
   "id": "6b3bcfe6",
   "metadata": {},
   "source": [
    "### DataFrames de Contagem de Solicitações por Senador Por Ano"
   ]
  },
  {
   "cell_type": "code",
   "execution_count": null,
   "id": "c4ce6111",
   "metadata": {},
   "outputs": [],
   "source": [
    "# Realizar a contagem de linhas por senador e por ano\n",
    "contagem = df_concat.groupby(['ANO', 'SENADOR']).size().reset_index(name='CONTAGEM')"
   ]
  },
  {
   "cell_type": "code",
   "execution_count": null,
   "id": "7b33514c",
   "metadata": {},
   "outputs": [],
   "source": [
    "senador_2018 = count(contagem, 2018)\n",
    "senador_2018"
   ]
  },
  {
   "cell_type": "code",
   "execution_count": null,
   "id": "3c727da5",
   "metadata": {},
   "outputs": [],
   "source": [
    "senador_2019 = count(contagem, 2019)\n",
    "senador_2019"
   ]
  },
  {
   "cell_type": "code",
   "execution_count": null,
   "id": "3ca0a5cf",
   "metadata": {},
   "outputs": [],
   "source": [
    "senador_2020 = count(contagem, 2020)\n",
    "senador_2020"
   ]
  },
  {
   "cell_type": "code",
   "execution_count": null,
   "id": "613c4807",
   "metadata": {},
   "outputs": [],
   "source": [
    "senador_2021 = count(contagem, 2021)\n",
    "senador_2021"
   ]
  },
  {
   "cell_type": "code",
   "execution_count": null,
   "id": "b6249514",
   "metadata": {},
   "outputs": [],
   "source": [
    "senador_2022 = count(contagem, 2022)\n",
    "senador_2022"
   ]
  },
  {
   "cell_type": "markdown",
   "id": "07d4fc13",
   "metadata": {},
   "source": [
    "### DataFrames de Valor Total por Senador e Por Ano"
   ]
  },
  {
   "cell_type": "code",
   "execution_count": null,
   "id": "e4369b50",
   "metadata": {},
   "outputs": [],
   "source": [
    "df = df_concat[['ANO', 'SENADOR', 'VALOR_REEMBOLSADO']]\n",
    "df"
   ]
  },
  {
   "cell_type": "code",
   "execution_count": null,
   "id": "f5ed44bf",
   "metadata": {},
   "outputs": [],
   "source": [
    "df = df_concat[['ANO', 'SENADOR', 'VALOR_REEMBOLSADO']]\n",
    "df = select_year(df, 2018)\n",
    "value_sum(df)"
   ]
  },
  {
   "cell_type": "code",
   "execution_count": null,
   "id": "bc4f9706",
   "metadata": {},
   "outputs": [],
   "source": [
    "df = df_concat[['ANO', 'SENADOR', 'VALOR_REEMBOLSADO']]\n",
    "df_2019 = select_year(df, 2019)\n",
    "value_sum(df_2019)"
   ]
  },
  {
   "cell_type": "code",
   "execution_count": null,
   "id": "3c7e78cb",
   "metadata": {},
   "outputs": [],
   "source": [
    "df = df_concat[['ANO', 'SENADOR', 'VALOR_REEMBOLSADO']]\n",
    "df_2020 = select_year(df, 2020)\n",
    "value_sum(df_2020)"
   ]
  },
  {
   "cell_type": "markdown",
   "id": "10bd8f26",
   "metadata": {},
   "source": [
    "### DataFrames de Valor Total por Tipo de Despesa e Por Ano"
   ]
  },
  {
   "cell_type": "code",
   "execution_count": null,
   "id": "cdb4aa41",
   "metadata": {},
   "outputs": [],
   "source": [
    "df_type_2018 = data_2018[['TIPO_DESPESA', 'VALOR_REEMBOLSADO']]\n",
    "value_2018 = value_type(df_type_2018)\n",
    "value_2018"
   ]
  },
  {
   "cell_type": "code",
   "execution_count": null,
   "id": "58dd095a",
   "metadata": {},
   "outputs": [],
   "source": [
    "total_value(value_2018)"
   ]
  },
  {
   "cell_type": "code",
   "execution_count": null,
   "id": "2a580eef",
   "metadata": {},
   "outputs": [],
   "source": [
    "df_type_2019 = data_2019[['TIPO_DESPESA', 'VALOR_REEMBOLSADO']]\n",
    "value_2019 = value_type(df_type_2019)\n",
    "value_2019"
   ]
  },
  {
   "cell_type": "code",
   "execution_count": null,
   "id": "817ccfd5",
   "metadata": {},
   "outputs": [],
   "source": [
    "total_value(value_2019)"
   ]
  },
  {
   "cell_type": "code",
   "execution_count": null,
   "id": "8893c461",
   "metadata": {},
   "outputs": [],
   "source": [
    "df_type_2020 = data_2020[['TIPO_DESPESA', 'VALOR_REEMBOLSADO']]\n",
    "value_2020 = value_type(df_type_2020)\n",
    "value_2020"
   ]
  },
  {
   "cell_type": "code",
   "execution_count": null,
   "id": "bd7ee590",
   "metadata": {},
   "outputs": [],
   "source": [
    "total_value(value_2020)"
   ]
  },
  {
   "cell_type": "code",
   "execution_count": null,
   "id": "a2ec3770",
   "metadata": {},
   "outputs": [],
   "source": [
    "df_type_2021 = data_2021[['TIPO_DESPESA', 'VALOR_REEMBOLSADO']]\n",
    "value_2021 = value_type(df_type_2021)\n",
    "value_2021"
   ]
  },
  {
   "cell_type": "code",
   "execution_count": null,
   "id": "870d1251",
   "metadata": {},
   "outputs": [],
   "source": [
    "total_value(value_2021)"
   ]
  },
  {
   "cell_type": "code",
   "execution_count": null,
   "id": "02a9ff8f",
   "metadata": {},
   "outputs": [],
   "source": [
    "df_type_2022 = data_2022[['TIPO_DESPESA', 'VALOR_REEMBOLSADO']]\n",
    "value_2022 = value_type(df_type_2022)\n",
    "value_2022"
   ]
  },
  {
   "cell_type": "code",
   "execution_count": null,
   "id": "fe36f61d",
   "metadata": {},
   "outputs": [],
   "source": [
    "total_value(value_2022)"
   ]
  }
 ],
 "metadata": {
  "kernelspec": {
   "display_name": "Python 3 (ipykernel)",
   "language": "python",
   "name": "python3"
  },
  "language_info": {
   "codemirror_mode": {
    "name": "ipython",
    "version": 3
   },
   "file_extension": ".py",
   "mimetype": "text/x-python",
   "name": "python",
   "nbconvert_exporter": "python",
   "pygments_lexer": "ipython3",
   "version": "3.9.16"
  }
 },
 "nbformat": 4,
 "nbformat_minor": 5
}
