{
 "cells": [
  {
   "cell_type": "markdown",
   "id": "a6dadade",
   "metadata": {},
   "source": [
    "## Bibliotecas"
   ]
  },
  {
   "cell_type": "code",
   "execution_count": 1,
   "id": "e5b406db",
   "metadata": {},
   "outputs": [
    {
     "ename": "ModuleNotFoundError",
     "evalue": "No module named 'babel'",
     "output_type": "error",
     "traceback": [
      "\u001b[1;31m---------------------------------------------------------------------------\u001b[0m",
      "\u001b[1;31mModuleNotFoundError\u001b[0m                       Traceback (most recent call last)",
      "Cell \u001b[1;32mIn[1], line 5\u001b[0m\n\u001b[0;32m      3\u001b[0m \u001b[38;5;28;01mfrom\u001b[39;00m \u001b[38;5;21;01mIPython\u001b[39;00m\u001b[38;5;21;01m.\u001b[39;00m\u001b[38;5;21;01mdisplay\u001b[39;00m \u001b[38;5;28;01mimport\u001b[39;00m display, Markdown, HTML\n\u001b[0;32m      4\u001b[0m \u001b[38;5;28;01mimport\u001b[39;00m \u001b[38;5;21;01mlocale\u001b[39;00m\n\u001b[1;32m----> 5\u001b[0m \u001b[38;5;28;01mfrom\u001b[39;00m \u001b[38;5;21;01mbabel\u001b[39;00m\u001b[38;5;21;01m.\u001b[39;00m\u001b[38;5;21;01mnumbers\u001b[39;00m \u001b[38;5;28;01mimport\u001b[39;00m format_currency\n\u001b[0;32m      7\u001b[0m warnings\u001b[38;5;241m.\u001b[39mfilterwarnings(\u001b[38;5;124m'\u001b[39m\u001b[38;5;124mignore\u001b[39m\u001b[38;5;124m'\u001b[39m)\n",
      "\u001b[1;31mModuleNotFoundError\u001b[0m: No module named 'babel'"
     ]
    }
   ],
   "source": [
    "import pandas as pd\n",
    "import warnings\n",
    "from IPython.display import display, Markdown, HTML\n",
    "import locale\n",
    "from babel.numbers import format_currency\n",
    "\n",
    "warnings.filterwarnings('ignore')"
   ]
  },
  {
   "cell_type": "markdown",
   "id": "ebcefa39",
   "metadata": {},
   "source": [
    "## Importação de Dados"
   ]
  },
  {
   "cell_type": "code",
   "execution_count": null,
   "id": "bb4cb210",
   "metadata": {},
   "outputs": [],
   "source": [
    "# Importando dados\n",
    "data_2018 = pd.read_csv('data/despesa_ceaps_2018.csv', encoding='latin-1', sep=';', skiprows=[0])\n",
    "data_2019 = pd.read_csv('data/despesa_ceaps_2019.csv', encoding='latin-1', sep=';', skiprows=[0])\n",
    "data_2020 = pd.read_csv('data/despesa_ceaps_2020.csv', encoding='latin-1', sep=';', skiprows=[0])\n",
    "data_2021 = pd.read_csv('data/despesa_ceaps_2021.csv', encoding='latin-1', sep=';', skiprows=[0])\n",
    "data_2022 = pd.read_csv('data/despesa_ceaps_2022.csv', encoding='latin-1', sep=';', skiprows=[0])"
   ]
  },
  {
   "cell_type": "markdown",
   "id": "2eba1d4b",
   "metadata": {},
   "source": [
    "## Problema de Pesquisa"
   ]
  },
  {
   "cell_type": "markdown",
   "id": "5aa2e86b",
   "metadata": {},
   "source": [
    "A coluna de Detalhamento tem um aumento nos valores nulos conforme se passam os anos. Pq?\n",
    "Quem são os TOP 5 campeões de gastos de cada ano?\n",
    "Com qual tipo de despesa foi gasto mais dinheiro?"
   ]
  },
  {
   "cell_type": "markdown",
   "id": "ebf0097b",
   "metadata": {},
   "source": [
    "## Funções"
   ]
  },
  {
   "cell_type": "code",
   "execution_count": null,
   "id": "2d44fd0d",
   "metadata": {},
   "outputs": [],
   "source": [
    "# Função para concatenar dataframes\n",
    "def concat(dataframes_list):\n",
    "    df_concat = pd.concat(dataframes_list, ignore_index=True)\n",
    "    return df_concat\n",
    "\n",
    "# Função para selecionar o ano\n",
    "def select_year(df, year):\n",
    "    year_df = df[df['ANO'] == year]\n",
    "    return year_df\n",
    "\n",
    "# Função para criar DF contagem de solicitações por senador\n",
    "def count(df, ano):\n",
    "    contagem_ano = df.query(\"ANO == @ano\")\n",
    "    df_ano = contagem_ano.sort_values(\"CONTAGEM\", ascending=False)\n",
    "    return df_ano\n",
    "    \n",
    "# Função para criar DF Valor Total por senador\n",
    "def value_sum(df):\n",
    "    df_agrupado = df.groupby('SENADOR')['VALOR_REEMBOLSADO'].sum()\n",
    "    df_agrupado = df_agrupado.to_frame()\n",
    "    df_agrupado = df_agrupado.rename(columns={'SENADOR': 'SENADOR', 'VALOR_REEMBOLSADO': 'VALOR_REEMBOLSADO'})\n",
    "    df_agrupado = df_agrupado.sort_values(\"VALOR_REEMBOLSADO\", ascending=False)\n",
    "    return df_agrupado\n",
    "\n",
    "# Função para criar DF Valor Total por Tipo de Despesa\n",
    "def value_type(df):\n",
    "    df_agrupado = df.groupby('TIPO_DESPESA')['VALOR_REEMBOLSADO'].sum()\n",
    "    df_agrupado = df_agrupado.to_frame()\n",
    "    df_agrupado = df_agrupado.rename(columns={'TIPO_DESPESA': 'TIPO_DESPESA','VALOR_REEMBOLSADO': 'VALOR_TOTAL'})\n",
    "    df_agrupado = df_agrupado.sort_values(\"VALOR_TOTAL\", ascending=False)\n",
    "    return df_agrupado\n",
    "\n",
    "# Função para mostrar o valor total por ano\n",
    "def total_value(df):\n",
    "    locale.setlocale(locale.LC_ALL, 'pt_BR.UTF-8')\n",
    "    soma_total = df['VALOR_TOTAL'].sum()\n",
    "    valor_formatado = format_currency(soma_total, 'BRL', format='#,##0.00', locale='pt_BR')\n",
    "    print(\"Soma total dos valores do ano de 2020:\", valor_formatado)    \n",
    "\n",
    "# Função para realizar a porcentagem de nulos por coluna\n",
    "def nulls(df):\n",
    "    nulls_percent = df.isnull().mean() * 100\n",
    "    return nulls_percent\n",
    "\n",
    "# Função para tratar valores da coluna VALOR_REEMBOLSADO e substituir a vírgula por ponto\n",
    "def treat_value(df):\n",
    "    df.loc[:, 'VALOR_REEMBOLSADO'] = df.loc[:, 'VALOR_REEMBOLSADO'].str.replace(',', '.').astype(float)\n",
    "    \n",
    "# Função para centralizar o dataframe\n",
    "def center_df(df):\n",
    "    df = df.style.set_table_attributes('style=\"margin-left: auto; margin-right: auto;\"')\n",
    "    return HTML(df.render())\n",
    "    \n",
    "# Função para inserir título\n",
    "def title(title, size):\n",
    "    return Markdown(f'<h1 style=\"font-size:{size}px; text-align:center;\">{title}</h1>')"
   ]
  },
  {
   "cell_type": "markdown",
   "id": "12e35fc0",
   "metadata": {},
   "source": [
    "## Concatenação das Tabelas 2018 - 2022"
   ]
  },
  {
   "cell_type": "code",
   "execution_count": null,
   "id": "d104281a",
   "metadata": {},
   "outputs": [],
   "source": [
    "df_concat = concat([data_2018, data_2019, data_2020, data_2021, data_2022] )\n",
    "df_concat"
   ]
  },
  {
   "cell_type": "markdown",
   "id": "198bbdc5",
   "metadata": {},
   "source": [
    "## Análise Exploratória"
   ]
  },
  {
   "cell_type": "code",
   "execution_count": null,
   "id": "8f86b1e1",
   "metadata": {
    "scrolled": false
   },
   "outputs": [],
   "source": [
    "\"\"\" Comentários:\n",
    "    Corrigir os valores da coluna VALOR_REEMBOLSADO (trocar , por .)\"\"\"\n",
    "df_concat"
   ]
  },
  {
   "cell_type": "code",
   "execution_count": null,
   "id": "2b712852",
   "metadata": {},
   "outputs": [],
   "source": [
    "# Dicionário de Dados\n",
    "titulo = 'Dicionário de Dados'\n",
    "tamanho_fonte = 24\n",
    "\n",
    "dataframe = {'Colunas': ['ANO', \n",
    "                         'MES', \n",
    "                         'SENADOR', \n",
    "                         'TIPO_DESPESA', \n",
    "                         'CNPJ_CPF', \n",
    "                         'FORNECEDOR', \n",
    "                         'DOCUMENTO', \n",
    "                         'DATA', \n",
    "                         'DETALHAMENTO', \n",
    "                         'VALOR_REEMBOLSADO', \n",
    "                         'COD_DOCUMENTO'],\n",
    "            'Descrição': ['Ano da Despesa', \n",
    "                          'Mês da Despesa', \n",
    "                          'Nome do Senador que realizou a Despesa',\n",
    "                          'Tipificação da Despesa',\n",
    "                          'CNPJ ou CPF do executor da Despesa',\n",
    "                          'Nome do Fornecedor da Despesa',\n",
    "                          'Identificação do documento apresentado',\n",
    "                          'Data de Apresentação da Despesa',\n",
    "                          'Detalhamento da Despesa',\n",
    "                          'Valor gasto com a Despesa',\n",
    "                          'Código gerado para a Despesa']}\n",
    "\n",
    "dic = pd.DataFrame(dataframe)\n",
    "\n",
    "dic_estilizado = dic.style.set_table_attributes('style=\"margin-left: auto; margin-right: auto;\"')\n",
    "display(Markdown(f'<h1 style=\"font-size:{tamanho_fonte}px; text-align:center;\">{titulo}</h1>'))\n",
    "display(HTML(dic_estilizado.render()))\n"
   ]
  },
  {
   "cell_type": "code",
   "execution_count": null,
   "id": "54d47d7f",
   "metadata": {},
   "outputs": [],
   "source": [
    "df_concat.columns"
   ]
  },
  {
   "cell_type": "markdown",
   "id": "a8a343c4",
   "metadata": {},
   "source": [
    "#### Valores Nulos"
   ]
  },
  {
   "cell_type": "code",
   "execution_count": null,
   "id": "8d6f7c04",
   "metadata": {},
   "outputs": [],
   "source": [
    "null_2018 = nulls(data_2018).reset_index()\n",
    "null_2018.rename(columns={'index': 'Coluna', 0: 'Porcentagem_Nulos'}, inplace=True)\n",
    "\n",
    "display(title('Porcentagem de Valores Nulos 2018', 24))\n",
    "center_df(null_2018)"
   ]
  },
  {
   "cell_type": "code",
   "execution_count": null,
   "id": "77d4ce5e",
   "metadata": {},
   "outputs": [],
   "source": [
    "null_2019 = nulls(data_2019).reset_index()\n",
    "null_2019.rename(columns={'index': 'Coluna', 0: 'Porcentagem_Nulos'}, inplace=True)\n",
    "\n",
    "display(title('Porcentagem de Valores Nulos 2019', 24))\n",
    "center_df(null_2019)"
   ]
  },
  {
   "cell_type": "code",
   "execution_count": null,
   "id": "b443945a",
   "metadata": {},
   "outputs": [],
   "source": [
    "null_2020 = nulls(data_2020).reset_index()\n",
    "null_2020.rename(columns={'index': 'Coluna', 0: 'Porcentagem_Nulos'}, inplace=True)\n",
    "\n",
    "display(title('Porcentagem de Valores Nulos 2020', 24))\n",
    "center_df(null_2020)"
   ]
  },
  {
   "cell_type": "code",
   "execution_count": null,
   "id": "53ee1a54",
   "metadata": {},
   "outputs": [],
   "source": [
    "null_2021 = nulls(data_2021).reset_index()\n",
    "null_2021.rename(columns={'index': 'Coluna', 0: 'Porcentagem_Nulos'}, inplace=True)\n",
    "\n",
    "display(title('Porcentagem de Valores Nulos 2021', 24))\n",
    "center_df(null_2021)"
   ]
  },
  {
   "cell_type": "code",
   "execution_count": null,
   "id": "c36fb0dd",
   "metadata": {},
   "outputs": [],
   "source": [
    "null_2022 = nulls(data_2022).reset_index()\n",
    "null_2022.rename(columns={'index': 'Coluna', 0: 'Porcentagem_Nulos'}, inplace=True)\n",
    "\n",
    "display(title('Porcentagem de Valores Nulos 2022', 24))\n",
    "center_df(null_2022)"
   ]
  },
  {
   "cell_type": "code",
   "execution_count": null,
   "id": "6709c6b4",
   "metadata": {},
   "outputs": [],
   "source": [
    "\"\"\" Comentários:\n",
    "    Atentar para os valores nulos da coluna DETALHAMENTO que tiveram um aumento importante na virada de governo\n",
    "    Quem são os senadores que mais possuem nulosna coluna DETALHAMENTO?\"\"\"\n",
    "null_concat = nulls(df_concat).reset_index()\n",
    "null_concat.rename(columns={'index': 'Coluna', 0: 'Porcentagem_Nulos'}, inplace=True)\n",
    "\n",
    "display(title('Porcentagem de Valores Nulos 2022', 24))\n",
    "center_df(null_concat)\n"
   ]
  },
  {
   "cell_type": "code",
   "execution_count": null,
   "id": "482bda0e",
   "metadata": {},
   "outputs": [],
   "source": [
    "\"\"\"Comentários:\n",
    "    Arrumar tipo de valor reembolsado, object para float\n",
    "    Arrumar tipo de data, object para date\n",
    "\"\"\"\n",
    "\n",
    "df_types = df_concat.dtypes.reset_index()\n",
    "df_types.rename(columns={'index': 'Coluna', 0: 'Tipo'}, inplace=True)\n",
    "display(title('Tipos das Colunas', 20))\n",
    "center_df(df_types)"
   ]
  },
  {
   "cell_type": "code",
   "execution_count": null,
   "id": "358675c8",
   "metadata": {},
   "outputs": [],
   "source": [
    "df_concat['VALOR_REEMBOLSADO'].describe()"
   ]
  },
  {
   "cell_type": "code",
   "execution_count": null,
   "id": "9cd97bbd",
   "metadata": {},
   "outputs": [],
   "source": []
  },
  {
   "cell_type": "markdown",
   "id": "f2faad7f",
   "metadata": {},
   "source": [
    "## Tratamento dos Dados"
   ]
  },
  {
   "cell_type": "code",
   "execution_count": null,
   "id": "7839f92e",
   "metadata": {},
   "outputs": [],
   "source": [
    "# Tratamento dos valores da coluna VALOR_REEMBOLSADO (retirando , e inserindo .) e do tipo da coluna (object to float)\n",
    "treat_value(df_concat)\n",
    "treat_value(data_2018)\n",
    "treat_value(data_2019)\n",
    "treat_value(data_2020)\n",
    "treat_value(data_2021)\n",
    "treat_value(data_2022)"
   ]
  },
  {
   "cell_type": "code",
   "execution_count": null,
   "id": "1f39401e",
   "metadata": {},
   "outputs": [],
   "source": [
    "# Tratamento do tipo da coluna DATA\n"
   ]
  },
  {
   "cell_type": "markdown",
   "id": "77551819",
   "metadata": {},
   "source": [
    "## DataFrames de Contagem de Nulos na Coluna Detalhamento por Senador"
   ]
  },
  {
   "cell_type": "code",
   "execution_count": null,
   "id": "c6eef236",
   "metadata": {},
   "outputs": [],
   "source": [
    "# Use o método isnull() para criar uma máscara booleana indicando quais valores são nulos\n",
    "mask = df_concat['DETALHAMENTO'].isnull()\n",
    "\n",
    "# Aplique a máscara booleana para filtrar as linhas com valores nulos na coluna 'B'\n",
    "df_filtrado = df_concat[mask]\n",
    "df_filtrado['SENADOR'].value_counts()"
   ]
  },
  {
   "cell_type": "markdown",
   "id": "6b3bcfe6",
   "metadata": {},
   "source": [
    "## DataFrames de Contagem de Solicitações por Senador Por Ano"
   ]
  },
  {
   "cell_type": "code",
   "execution_count": null,
   "id": "c4ce6111",
   "metadata": {},
   "outputs": [],
   "source": [
    "# Realizar a contagem de linhas por senador e por ano\n",
    "contagem = df_concat.groupby(['ANO', 'SENADOR']).size().reset_index(name='CONTAGEM')"
   ]
  },
  {
   "cell_type": "code",
   "execution_count": null,
   "id": "7b33514c",
   "metadata": {},
   "outputs": [],
   "source": [
    "senador_2018 = count(contagem, 2018)\n",
    "senador_2018"
   ]
  },
  {
   "cell_type": "code",
   "execution_count": null,
   "id": "3c727da5",
   "metadata": {},
   "outputs": [],
   "source": [
    "senador_2019 = count(contagem, 2019)\n",
    "senador_2019"
   ]
  },
  {
   "cell_type": "code",
   "execution_count": null,
   "id": "3ca0a5cf",
   "metadata": {},
   "outputs": [],
   "source": [
    "senador_2020 = count(contagem, 2020)\n",
    "senador_2020"
   ]
  },
  {
   "cell_type": "code",
   "execution_count": null,
   "id": "613c4807",
   "metadata": {},
   "outputs": [],
   "source": [
    "senador_2021 = count(contagem, 2021)\n",
    "senador_2021"
   ]
  },
  {
   "cell_type": "code",
   "execution_count": null,
   "id": "b6249514",
   "metadata": {},
   "outputs": [],
   "source": [
    "senador_2022 = count(contagem, 2022)\n",
    "senador_2022"
   ]
  },
  {
   "cell_type": "markdown",
   "id": "07d4fc13",
   "metadata": {},
   "source": [
    "## DataFrames de Valor Total por Senador e Por Ano"
   ]
  },
  {
   "cell_type": "code",
   "execution_count": null,
   "id": "e4369b50",
   "metadata": {},
   "outputs": [],
   "source": [
    "df = df_concat[['ANO', 'SENADOR', 'VALOR_REEMBOLSADO']]\n",
    "df"
   ]
  },
  {
   "cell_type": "code",
   "execution_count": null,
   "id": "f5ed44bf",
   "metadata": {},
   "outputs": [],
   "source": [
    "df = df_concat[['ANO', 'SENADOR', 'VALOR_REEMBOLSADO']]\n",
    "df = select_year(df, 2018)\n",
    "value_sum(df)"
   ]
  },
  {
   "cell_type": "code",
   "execution_count": null,
   "id": "bc4f9706",
   "metadata": {},
   "outputs": [],
   "source": [
    "df = df_concat[['ANO', 'SENADOR', 'VALOR_REEMBOLSADO']]\n",
    "df_2019 = select_year(df, 2019)\n",
    "value_sum(df_2019)"
   ]
  },
  {
   "cell_type": "code",
   "execution_count": null,
   "id": "3c7e78cb",
   "metadata": {},
   "outputs": [],
   "source": [
    "df = df_concat[['ANO', 'SENADOR', 'VALOR_REEMBOLSADO']]\n",
    "df_2020 = select_year(df, 2020)\n",
    "value_sum(df_2020)"
   ]
  },
  {
   "cell_type": "markdown",
   "id": "10bd8f26",
   "metadata": {},
   "source": [
    "## ## DataFrames de Valor Total por Tipo de Despesa e Por Ano"
   ]
  },
  {
   "cell_type": "code",
   "execution_count": null,
   "id": "cdb4aa41",
   "metadata": {},
   "outputs": [],
   "source": [
    "df_type_2018 = data_2018[['TIPO_DESPESA', 'VALOR_REEMBOLSADO']]\n",
    "value_2018 = value_type(df_type_2018)\n",
    "value_2018"
   ]
  },
  {
   "cell_type": "code",
   "execution_count": null,
   "id": "58dd095a",
   "metadata": {},
   "outputs": [],
   "source": [
    "total_value(value_2018)"
   ]
  },
  {
   "cell_type": "code",
   "execution_count": null,
   "id": "2a580eef",
   "metadata": {},
   "outputs": [],
   "source": [
    "df_type_2019 = data_2019[['TIPO_DESPESA', 'VALOR_REEMBOLSADO']]\n",
    "value_2019 = value_type(df_type_2019)\n",
    "value_2019"
   ]
  },
  {
   "cell_type": "code",
   "execution_count": null,
   "id": "817ccfd5",
   "metadata": {},
   "outputs": [],
   "source": [
    "total_value(value_2019)"
   ]
  },
  {
   "cell_type": "code",
   "execution_count": null,
   "id": "8893c461",
   "metadata": {},
   "outputs": [],
   "source": [
    "df_type_2020 = data_2020[['TIPO_DESPESA', 'VALOR_REEMBOLSADO']]\n",
    "value_2020 = value_type(df_type_2020)\n",
    "value_2020"
   ]
  },
  {
   "cell_type": "code",
   "execution_count": null,
   "id": "bd7ee590",
   "metadata": {},
   "outputs": [],
   "source": [
    "total_value(value_2020)"
   ]
  },
  {
   "cell_type": "code",
   "execution_count": null,
   "id": "a2ec3770",
   "metadata": {},
   "outputs": [],
   "source": [
    "df_type_2021 = data_2021[['TIPO_DESPESA', 'VALOR_REEMBOLSADO']]\n",
    "value_2021 = value_type(df_type_2021)\n",
    "value_2021"
   ]
  },
  {
   "cell_type": "code",
   "execution_count": null,
   "id": "870d1251",
   "metadata": {},
   "outputs": [],
   "source": [
    "total_value(value_2021)"
   ]
  },
  {
   "cell_type": "code",
   "execution_count": null,
   "id": "02a9ff8f",
   "metadata": {},
   "outputs": [],
   "source": [
    "df_type_2022 = data_2022[['TIPO_DESPESA', 'VALOR_REEMBOLSADO']]\n",
    "value_2022 = value_type(df_type_2022)\n",
    "value_2022"
   ]
  },
  {
   "cell_type": "code",
   "execution_count": null,
   "id": "fe36f61d",
   "metadata": {},
   "outputs": [],
   "source": [
    "total_value(value_2022)"
   ]
  }
 ],
 "metadata": {
  "kernelspec": {
   "display_name": "Python 3 (ipykernel)",
   "language": "python",
   "name": "python3"
  },
  "language_info": {
   "codemirror_mode": {
    "name": "ipython",
    "version": 3
   },
   "file_extension": ".py",
   "mimetype": "text/x-python",
   "name": "python",
   "nbconvert_exporter": "python",
   "pygments_lexer": "ipython3",
   "version": "3.9.16"
  }
 },
 "nbformat": 4,
 "nbformat_minor": 5
}
